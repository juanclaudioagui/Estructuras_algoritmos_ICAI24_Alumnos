{
 "cells": [
  {
   "cell_type": "markdown",
   "metadata": {},
   "source": [
    "# Basic Algorithms Introduction\n",
    "\n",
    "\n",
    "## Multiplicación *'A la Russe'*   \n",
    "\n",
    "El método de multiplicación rusa consiste    en multiplicar sucesivamente por 2 el     multiplicando y dividir por 2 el multiplicador hasta\n",
    "    que el multiplicador tome el valor 1. Luego, se    suman todos los multiplicandos correspondientes     a los multiplicadores impares. Dicha suma es el\n",
    "    producto de los dos números"
   ]
  },
  {
   "cell_type": "code",
   "execution_count": 27,
   "metadata": {},
   "outputs": [
    {
     "name": "stdout",
     "output_type": "stream",
     "text": [
      "Russian Multiplication of 981 x 1234\n",
      "981 is odd,  acumulate 1234\n",
      "490 is even,  \t\t skipping 2468\n",
      "245 is odd,  acumulate 4936\n",
      "122 is even,  \t\t skipping 9872\n",
      "61 is odd,  acumulate 19744\n",
      "30 is even,  \t\t skipping 39488\n",
      "15 is odd,  acumulate 78976\n",
      "7 is odd,  acumulate 157952\n",
      "3 is odd,  acumulate 315904\n",
      "Russian Mult of 981 y 1234  results in 1210554 correct value is 1210554\n"
     ]
    }
   ],
   "source": [
    "def ruseMult(m_dor,m_ando, TRACE=False) -> int:\n",
    "    \"\"\"Retorna la multiplicación de dos enteros utilizando el algoritmo ruso\n",
    "    El método de multiplicación rusa consiste\n",
    "    en multiplicar sucesivamente por 2 el\n",
    "    multiplicando y dividir por 2 el multiplicador hasta\n",
    "    que el multiplicador tome el valor 1. Luego, se\n",
    "    suman todos los multiplicandos correspondientes\n",
    "    a los multiplicadores impares. Dicha suma es el\n",
    "    producto de los dos números\n",
    "    \n",
    "    Args:\n",
    "        m_dor (_int_): Multiplicando\n",
    "        m_ando (_int_): Multiplicador\n",
    "\n",
    "    Returns:\n",
    "        int: m_dor x m_ando\n",
    "    \"\"\"\n",
    "    \n",
    "    if TRACE: print (f\"Russian Multiplication of {m_dor} x {m_ando}\")\n",
    "    res = 0\n",
    "    while m_dor  != 1:                       # mientras no llega a la unidasd\n",
    "        if m_dor % 2 ==1:                    # acumula los impares\n",
    "            res += m_ando     \n",
    "            if TRACE: print (f\"{m_dor} is odd,  acumulate {m_ando}\")\n",
    "        else:\n",
    "            if TRACE: print (f\"{m_dor} is even,  \\t\\t skipping {m_ando}\")\n",
    "    \n",
    "        m_dor = m_dor // 2                   # división entera del multiplicador por 2\n",
    "        m_ando = m_ando *2                   # doblar el multiplicando \n",
    "        \n",
    "    res += m_ando\n",
    "    return res\n",
    "\n",
    "print (f\"Russian Mult of 981 y 1234  results in {ruseMult(981, 1234, True)} correct value is {981*1234}\")"
   ]
  },
  {
   "cell_type": "markdown",
   "metadata": {},
   "source": [
    "## Multiplicación estándard ( sin usar  '*')"
   ]
  },
  {
   "cell_type": "code",
   "execution_count": 28,
   "metadata": {},
   "outputs": [
    {
     "name": "stdout",
     "output_type": "stream",
     "text": [
      "Testing, Basic Multiplying 981 by 1234 produce 1210554 check with 1210554\n"
     ]
    }
   ],
   "source": [
    "def StdMult(m_dor,m_ando, TRACE=False) -> int:\n",
    "    \"\"\"Retorna la multiplicación de dos enteros utilizando el algoritmo standard\n",
    "        que consiste en acumular el multiplicando, tantas veces como \n",
    "        indica el multiplicador\n",
    "    \n",
    "    Args:\n",
    "        m_dor (_int_): Multiplicando\n",
    "        m_ando (_int_): Multiplicador\n",
    "\n",
    "    Returns:\n",
    "        int: m_dor x m_ando\n",
    "    \"\"\"\n",
    "    res = 0\n",
    "    for _ in range(m_dor):                        # mientras no llega a la unidasd\n",
    "        res += m_ando\n",
    "        if TRACE:  print (_, m_ando)\n",
    "    return res\n",
    "\n",
    "print (f\"Testing, Basic Multiplying 981 by 1234 produce {StdMult(981,1234)} check with {981*1234}\")"
   ]
  },
  {
   "cell_type": "markdown",
   "metadata": {},
   "source": [
    "## Midamos Tiempos. Qué algoritmo es mejor ??"
   ]
  },
  {
   "cell_type": "code",
   "execution_count": 2,
   "metadata": {},
   "outputs": [],
   "source": [
    "from time import process_time as pt\n",
    "\n",
    "m_dor = 123455\n",
    "m_ando = 86456678\n",
    "repeat = 1000"
   ]
  },
  {
   "cell_type": "code",
   "execution_count": 13,
   "metadata": {},
   "outputs": [
    {
     "name": "stdout",
     "output_type": "stream",
     "text": [
      "ruse 0.008383 secs for 1000 operations, 1.19e+05 ops per sec \n"
     ]
    }
   ],
   "source": [
    "\n",
    "# Testing RUSSE\n",
    "t0 = pt()\n",
    "for _ in range(repeat):\n",
    "    ruseMult(m_dor,m_ando)\n",
    "t = (pt() - t0)\n",
    "print (f\"ruse { t:.6f} secs for {repeat} operations, {repeat/t:.2e} ops per sec \")"
   ]
  },
  {
   "cell_type": "code",
   "execution_count": 16,
   "metadata": {},
   "outputs": [
    {
     "name": "stdout",
     "output_type": "stream",
     "text": [
      "Standard Mult 9.569074 secs for 1000 operations, 1.05e+02 ops per sec \n"
     ]
    }
   ],
   "source": [
    "# Testing Standard\n",
    "t0 = pt()\n",
    "\n",
    "for _ in range(repeat):\n",
    "    StdMult(m_dor,m_ando)\n",
    "\n",
    "t = (pt() - t0)\n",
    "print (f\"Standard Mult { t:.6f} secs for {repeat} operations, {repeat/t:.2e} ops per sec \")"
   ]
  },
  {
   "cell_type": "code",
   "execution_count": 15,
   "metadata": {},
   "outputs": [
    {
     "name": "stdout",
     "output_type": "stream",
     "text": [
      "Python Operator 0.000406 secs for 1000 operations, 2.46e+06 ops per sec \n"
     ]
    }
   ],
   "source": [
    "# Testing Built-in Python operator *\n",
    "t0 = pt()\n",
    "for _ in range(repeat): \n",
    "    a = m_dor * m_ando\n",
    "t = (pt() - t0)\n",
    "print (f\"Python Operator { t:.6f} secs for {repeat} operations, {repeat/t:.2e} ops per sec \")"
   ]
  },
  {
   "cell_type": "markdown",
   "metadata": {},
   "source": [
    "# Cuál es tu conclusión ??"
   ]
  },
  {
   "cell_type": "markdown",
   "metadata": {},
   "source": [
    "Python is the winner. How do they multiply ??\n"
   ]
  },
  {
   "cell_type": "raw",
   "metadata": {},
   "source": [
    "Your turn:  Implementar la multiplicación como la haciamos en el colegio:\n",
    "\n",
    "        12345\n",
    "        x  63\n",
    "        -----\n",
    "        37035\n",
    "       74070\n",
    "       ------\n",
    "       777735\n",
    "\n",
    "de nuevo, no podemos utilizar el símbolo * en nuestro código, pero, al  igual que en el colegio, \n",
    "podemos disponer de las tablas de multiplicar...\n",
    "      "
   ]
  },
  {
   "cell_type": "markdown",
   "metadata": {},
   "source": []
  },
  {
   "cell_type": "code",
   "execution_count": 8,
   "metadata": {},
   "outputs": [
    {
     "name": "stdout",
     "output_type": "stream",
     "text": [
      "Python Operator 1.209263 secs for 10000 operations, 8.27e+03 ops per sec \n"
     ]
    }
   ],
   "source": [
    "import random \n",
    "\n",
    "# Some usefull functions\n",
    "\n",
    "def numDigits(aInt):\n",
    "    num = 1\n",
    "    if aInt // 10 > 0:\n",
    "        num = 1 + numDigits(aInt//10)\n",
    "    else:\n",
    "        return 1\n",
    "    return num\n",
    "        \n",
    "def getDigit(aInt,digitNum):\n",
    "    # remember, digiNum va de 0 a numDigits -1\n",
    "    return int(str(aInt)[-(digitNum+1)])\n",
    "\n",
    "def buildNumFromDigits(aDigitCol):\n",
    "    numStr = ''\n",
    "    for digit in reversed(aDigitCol):\n",
    "        numStr += str(digit)\n",
    "    return int(numStr)\n",
    "\n",
    "\n",
    "def norm10(i):\n",
    "    return (i % 10, i // 10)\n",
    "\n",
    "def tabla(i,j) -> tuple:\n",
    "    return norm10(i*j)\n",
    "\n",
    "# numDigits(12345)\n",
    "#for _ in range(numDigits(12345)):\n",
    "#     print (_, getDigit(12345,_))\n",
    "    \n",
    "# for i in range(10):\n",
    "#     for j in range(10):\n",
    "#         print (i,j, tabla(i,j))\n",
    "        \n",
    "def colMult(m_ando,m_dor):\n",
    "    partials = []\n",
    "    for i in range(numDigits(m_dor)):\n",
    "        ival = getDigit(m_dor, i)\n",
    "        partial = []\n",
    "        carry = 0\n",
    "        for j in range(numDigits(m_ando)):\n",
    "            jval = getDigit(m_ando, j)\n",
    "            ele,lcarry = tabla(ival,jval)\n",
    "            ele, plus = norm10(ele+carry)\n",
    "            #partial.insert(0,ele)\n",
    "            partial.append(ele)\n",
    "            carry = lcarry + plus\n",
    "        partial.append(carry)\n",
    "        partials.append(partial)\n",
    "    # print (partials)\n",
    "    digits = []\n",
    "    nd_and = numDigits(m_ando)\n",
    "    nd_dor = numDigits(m_dor)\n",
    "    carry= 0 \n",
    "    for idigit in range(nd_and+nd_dor+1):\n",
    "        nums = [ partials[iRow][idigit-iRow] for iRow in range(nd_dor) if (idigit-iRow) > -1 and (idigit-iRow)< len(partials[iRow])]\n",
    "        # print(nums, sum(nums))\n",
    "        val,lcarry = norm10(sum(nums))\n",
    "        val,carry = norm10(val+carry)\n",
    "        carry = lcarry+carry\n",
    "        digits.append(val)\n",
    "    # print (digits,buildNumFromDigits(digits))\n",
    "    return buildNumFromDigits(digits)\n",
    "\n",
    "# test\n",
    "# for _ in range(100):\n",
    "#     m_dor = int(random.random()*10000)\n",
    "#     m_ando = int(random.random()*10000)    \n",
    "#     print ( f\"{m_dor,m_ando}, {colMult(m_dor,m_ando) == (m_dor*m_ando)}\" )\n",
    "    \n",
    "\n",
    "m_dor = 123455\n",
    "m_ando = 86456678\n",
    "repeat = 10000\n",
    "t0 = pt()\n",
    "for _ in range(repeat): \n",
    "    a = colMult(m_ando,m_dor)\n",
    "t = (pt() - t0)\n",
    "print (f\"Python Operator { t:.6f} secs for {repeat} operations, {repeat/t:.2e} ops per sec \")\n",
    "        \n",
    "            "
   ]
  },
  {
   "cell_type": "markdown",
   "metadata": {},
   "source": [
    "## Cuál es el indicador de complejidad de la multiplicación ??\n",
    "\n",
    "$$ \\Rightarrow numDigits(Multiplicando) +  numDigits(Multiplicador) $$"
   ]
  },
  {
   "cell_type": "code",
   "execution_count": null,
   "metadata": {},
   "outputs": [],
   "source": []
  }
 ],
 "metadata": {
  "kernelspec": {
   "display_name": "Python 3",
   "language": "python",
   "name": "python3"
  },
  "language_info": {
   "codemirror_mode": {
    "name": "ipython",
    "version": 3
   },
   "file_extension": ".py",
   "mimetype": "text/x-python",
   "name": "python",
   "nbconvert_exporter": "python",
   "pygments_lexer": "ipython3",
   "version": "3.10.12"
  }
 },
 "nbformat": 4,
 "nbformat_minor": 2
}
