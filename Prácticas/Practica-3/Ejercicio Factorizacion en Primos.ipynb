{
 "cells": [
  {
   "cell_type": "markdown",
   "metadata": {},
   "source": [
    "<h1>Jugemos con los números primos y su factorización </h1>\n",
    "<p> Primero veamos una herramienta que nos dice si es un número primo o no "
   ]
  },
  {
   "cell_type": "markdown",
   "metadata": {},
   "source": []
  },
  {
   "cell_type": "code",
   "execution_count": 1,
   "metadata": {},
   "outputs": [
    {
     "name": "stdout",
     "output_type": "stream",
     "text": [
      "[(6, False), (7, True), (8, False), (9, False), (10, False), (11, True), (12, False), (13, True), (14, False), (15, False), (16, False), (17, True), (18, False), (19, True)]\n"
     ]
    }
   ],
   "source": [
    "import math\n",
    "import collections\n",
    "\n",
    "import time\n",
    "import random\n",
    "import numpy as np  \n",
    "\n",
    "import matplotlib.pyplot as plt\n",
    "import numpy as np \n",
    "\n",
    "def isPrime(n):\n",
    "    if n % 2 == 0:\n",
    "        return False\n",
    "    if  0 in [ (n % i) for i in range(3,int(math.sqrt(n))+1,2)]:\n",
    "        return False\n",
    "    return True\n",
    "\n",
    "print ([(i,isPrime(i)) for i in range(6,20)])"
   ]
  },
  {
   "cell_type": "markdown",
   "metadata": {},
   "source": [
    "<h3>Algoritmo para hallar los factores primos de un número</h3>\n",
    "El algoritmo es sencillo:\n",
    "<ol>\n",
    "<li>Busca 2 como divisor, tantas veces como sea posible, dividiendo por 2 el número aportado</li>\n",
    "<li>Busca, impares de 3... hasta sqrt(n) y divide si la division es entera</li>\n",
    "<li>Si queda algo por encima de la raíz de n es que este es un número primo que divide  n</li>\n",
    "</ol>\n",
    "<p>Utilizamos el subtipo de diccionario <strong>Counter</strong> para acumular los factores y su multiplicidad"
   ]
  },
  {
   "cell_type": "code",
   "execution_count": 5,
   "metadata": {},
   "outputs": [
    {
     "name": "stdout",
     "output_type": "stream",
     "text": [
      "Prime factors de 1000137 is Counter({'3': 1, '43': 1, '7753': 1})\n"
     ]
    }
   ],
   "source": [
    "def primeFactors(n):\n",
    "    primes = collections.Counter()\n",
    "\n",
    "    #[1]# Print the number of 2s that divide n\n",
    "    while n % 2 == 0:\n",
    "        primes['2'] += 1\n",
    "        n = n//2\n",
    "    \n",
    "\n",
    "    #[2]# Check for divisors up to sqrt(n)\n",
    "    for i in range(3,int(math.sqrt(n))+1,2):\n",
    "        #While i divides n, print i and divide n\n",
    "        while (n % i == 0):\n",
    "            primes[str(i)] += 1\n",
    "            n = n//i   \n",
    "\n",
    "    # This condition is to handle the case when n\n",
    "    #[3]# is a prime number greater than 2\n",
    "    if (n > 2):\n",
    "        primes[str(n)] +=1\n",
    "        \n",
    "    return primes\n",
    "\n",
    "print (f\"Prime factors de {1000137} is {primeFactors(1000137)}\")"
   ]
  },
  {
   "cell_type": "markdown",
   "metadata": {},
   "source": [
    "### Analicemos la complejidad del algoritmo anterior\n",
    "Vemos que no es una algoritmo recursivo...  \n",
    "* El punto <strong>[0] es </strong> del orden de, en el peor de los casos  $ \\Omicron(log_2(n))$  \n",
    "* El punto <strong>[1] es </strong> del orden de, en el peor de los casos  $ \\Omicron({1/2}\\sqrt{n})$  \n",
    "* Finalmente, el punto   <strong>[2] </strong> es $ \\Omicron(1)$\n",
    "\n",
    "De todos ellos, el factor dominante es el <strong>[1]</strong> y por tanto el algoritmo escala $ \\backsim \\sqrt{n} $ eliminando las constantes.\n",
    "\n",
    "Para medirlo, vamos a generar números aleatorios, de órdenes de magnitud creciente, y vamos a medir tiempos.  \n",
    "Como en cada caso éste puede variar, tomaremos medias de varias repeticiones. Como orden de magnitud, tomaremos  \n",
    "en número de dígitos de un numero entero\n",
    "\n",
    "Necesitamos un generador aleatorio  de longitud predefinida:-\n"
   ]
  },
  {
   "cell_type": "code",
   "execution_count": 12,
   "metadata": {},
   "outputs": [
    {
     "name": "stdout",
     "output_type": "stream",
     "text": [
      "Número aleatorio de 35 dígitos: 36655385524864802659424321444717018\n"
     ]
    }
   ],
   "source": [
    "def randomDigitLength(n):\n",
    "    val = 0 \n",
    "    for _ in range(n):\n",
    "        val = val*10 + random.randint(0,9)\n",
    "    return val\n",
    "\n",
    "print (f\"Número aleatorio de 35 dígitos: {randomDigitLength(35)}\")"
   ]
  },
  {
   "cell_type": "markdown",
   "metadata": {},
   "source": [
    "<h3>Midamos tiempos </h3> "
   ]
  },
  {
   "cell_type": "code",
   "execution_count": 33,
   "metadata": {},
   "outputs": [],
   "source": [
    "\n",
    "def measurePrimeFactors(maxDigits, repeatTimes):\n",
    "    # devuelve el número de digitos, el tiempo medio de factorización, (us), y la desviación standard, \n",
    "    # ejecutando \n",
    "    digits= []\n",
    "    times = []\n",
    "    stds = []\n",
    "\n",
    "    for n in range(3,maxDigits+1):\n",
    "        \n",
    "        iter_times = []\n",
    "        for _ in range(repeatTimes): \n",
    "            t0 = time.process_time_ns()\n",
    "            primeFactors(randomDigitLength(n))       \n",
    "            t1 = (time.process_time_ns() - t0)/(1E3*repeatTimes)\n",
    "            iter_times.append(t1)\n",
    "    \n",
    "        digits.append(n)\n",
    "        times.append(np.mean(iter_times))\n",
    "        stds.append(np.std(iter_times))\n",
    "        \n",
    "    return digits,times,stds"
   ]
  },
  {
   "cell_type": "code",
   "execution_count": 46,
   "metadata": {},
   "outputs": [
    {
     "name": "stdout",
     "output_type": "stream",
     "text": [
      " N         Time       std       \n",
      " 3,      18.12 us,       7.69 us\n",
      " 4,      14.26 us,       2.25 us\n",
      " 5,      16.68 us,       1.57 us\n",
      " 6,      31.26 us,       0.85 us\n",
      " 7,      52.22 us,       8.71 us\n",
      " 8,     151.46 us,      40.95 us\n",
      " 9,     792.35 us,      70.61 us\n",
      "10,    1704.34 us,     254.75 us\n",
      "11,    4805.52 us,     630.21 us\n",
      "12,   16720.13 us,    7016.43 us\n",
      "13,   65955.79 us,   34442.39 us\n",
      "14,   72885.04 us,   19506.46 us\n",
      "15,  298781.77 us,   27612.39 us\n",
      "16, 1563605.94 us,   60003.80 us\n",
      "17, 4635212.47 us, 1530676.13 us\n"
     ]
    }
   ],
   "source": [
    "n_vec, times, stds = measurePrimeFactors(17,2)\n",
    "print ( f\"{' N':10s} {'Time':10s} {'std':10s}\" )    \n",
    "for n, t, std in zip(n_vec,times,stds):\n",
    "    print ( f\"{n:2d}, {t:10.2f} us, {std:10.2f} us\" )    "
   ]
  },
  {
   "cell_type": "markdown",
   "metadata": {},
   "source": [
    "<h3>Veamos gráficamente </h3>\n",
    "En ejes normales ( para cada longitud, tomamos un valor central) y logaritmicos ( base 10)"
   ]
  },
  {
   "cell_type": "code",
   "execution_count": 52,
   "metadata": {},
   "outputs": [
    {
     "data": {
      "image/png": "[encoded data removed]",
      "text/plain": [
       "<Figure size 864x432 with 2 Axes>"
      ]
     },
     "metadata": {
      "needs_background": "light"
     },
     "output_type": "display_data"
    }
   ],
   "source": [
    "fig, axes = plt.subplots(1,2,figsize=(12,6))\n",
    "digits = [ 0.5*(10**n) for n in n_vec]\n",
    "axes[0].plot(digits, times,'*-')\n",
    "axes[0].set(xlabel='N',  ylabel='T (us)',  title=f' factorización ')\n",
    "axes[0].grid()\n",
    "\n",
    "axes[1].plot(n_vec, times,'*')\n",
    "axes[1].set(xlabel='Log10 N',  ylabel='log10 T (us)',  title=f' factorización ')\n",
    "axes[1].set_yscale('log', base=10)\n",
    "axes[1].grid()\n",
    "\n",
    "plt.show()"
   ]
  },
  {
   "cell_type": "markdown",
   "metadata": {},
   "source": [
    "### Fitting del modelos \n",
    "Si, como hemos visto, el tiempo de ejecución es  $ \\Omicron (\\sqrt{n} $ ), si tomamos logaritmos en base 10,  \n",
    "se puede ver que el tiempo logaritmo del tiempo de ejeución es approximadamente lineal con el logaritmo del \n",
    "número n. Esto es:\n",
    "\n",
    "$\\hspace{2cm} \\log_{10}N \\backsim c\\times \\log_{10} n $\n",
    "\n",
    "donde $c$ es la potencia, que esperamos sea proxima a $0,5$.  \n",
    "\n",
    "Para ello, utilizamos una simple función de ajuste polinómico proporcionado en al librería numpy de Python,  \n",
    "\n",
    "$\\hspace{2cm} \\tt{fit = numpy.polyfit(x,y,nDeg)}$  y la función de evaluación  $ \\tt {numpy.poly1d(fit)}$\n",
    "\n",
    "Con ello, obviando los dos primeros puntos..."
   ]
  },
  {
   "cell_type": "code",
   "execution_count": 60,
   "metadata": {},
   "outputs": [
    {
     "name": "stdout",
     "output_type": "stream",
     "text": [
      "c = 0.462\n"
     ]
    },
    {
     "data": {
      "image/png": "[encoded data removed]",
      "text/plain": [
       "<Figure size 432x432 with 1 Axes>"
      ]
     },
     "metadata": {
      "needs_background": "light"
     },
     "output_type": "display_data"
    }
   ],
   "source": [
    "logt = [ math.log10(t) for t in times[2:]]\n",
    "fit = np.polyfit(n_vec[2:],logt,1)\n",
    "print (f\"c = {fit[0]:.3f}\")\n",
    "fit_log = np.poly1d(fit)\n",
    "t_fit = [ 10**(fit_log(val)) for val in n_vec[2:]]\n",
    "\n",
    "fig, axes = plt.subplots(1,1,figsize=(6,6))\n",
    "axes.plot(n_vec, times,'*')\n",
    "axes.plot(n_vec[2:], t_fit)\n",
    "axes.set(xlabel='# digits',  ylabel='log T (us)',  title=f' T Factorización & fit n^{fit[0]:.3f} ')\n",
    "axes.set_yscale('log', base=10)\n",
    "#axes.set_xscale('log')\n",
    "axes.grid()\n",
    "plt.show()\n"
   ]
  },
  {
   "cell_type": "markdown",
   "metadata": {},
   "source": [
    "### Conclusión\n",
    "el tiempo de facturación escala de forma muy cercana a $ \\Omicron(\\sqrt{n})$, the hecho, la medición va como $ \\Omicron({n}^{0.47})$.\n",
    "\n",
    "### Bonus track \n",
    "Existen mucho mejores implementaciones de la factorización de números. Ved la librería primefac en python y, compara estos tiempos con los ofrecidos por ésta."
   ]
  },
  {
   "cell_type": "markdown",
   "metadata": {},
   "source": []
  }
 ],
 "metadata": {
  "kernelspec": {
   "display_name": "Python 3 (ipykernel)",
   "language": "python",
   "name": "python3"
  },
  "language_info": {
   "codemirror_mode": {
    "name": "ipython",
    "version": 3
   },
   "file_extension": ".py",
   "mimetype": "text/x-python",
   "name": "python",
   "nbconvert_exporter": "python",
   "pygments_lexer": "ipython3",
   "version": "3.10.12"
  },
  "vscode": {
   "interpreter": {
    "hash": "916dbcbb3f70747c44a77c7bcd40155683ae19c65e1c03b4aa3499c5328201f1"
   }
  }
 },
 "nbformat": 4,
 "nbformat_minor": 2
}
