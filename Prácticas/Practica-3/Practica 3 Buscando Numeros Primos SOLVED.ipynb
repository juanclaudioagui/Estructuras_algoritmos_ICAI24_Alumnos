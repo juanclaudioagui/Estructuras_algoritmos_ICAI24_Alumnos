{
 "cells": [
  {
   "attachments": {},
   "cell_type": "markdown",
   "metadata": {},
   "source": [
    "## EJERCICIO 1 – Números primos\n",
    "En matemáticas, un número primo es un número natural mayor que 1 que tiene\n",
    "únicamente dos divisores positivos distintos: él mismo y el 1. En este ejercicio se pide\n",
    "calcular los 100 primeros números primos (ojo! No los números primos del 1 al 100)  \n",
    "utilizando 3 métodos distintos:\n",
    "* Fuerza bruta\n",
    "* Método recursivo\n",
    "* Un método mejor que los dos anteriores.\n",
    "\n",
    "Se pide al alumno programar los tres algoritmos, medir los tiempos de respuesta, y\n",
    "calcular la complejidad en cada uno de los tres casos…¿Existe una diferencia tangible\n",
    "entre los tres?  \n",
    "*no se permite utilizar break() dentro del código."
   ]
  },
  {
   "attachments": {},
   "cell_type": "markdown",
   "metadata": {},
   "source": [
    "## Super Bruto....\n",
    "Simplemente ver si es divisible por 2, o por todos los impares hasta la raíz del numero...."
   ]
  },
  {
   "cell_type": "code",
   "execution_count": 2,
   "metadata": {},
   "outputs": [
    {
     "name": "stdout",
     "output_type": "stream",
     "text": [
      "[1, 3, 5, 7, 11, 13, 17, 19, 23, 29, 31, 37, 41, 43, 47, 53, 59, 61, 67, 71, 73, 79, 83, 89, 97]\n"
     ]
    }
   ],
   "source": [
    "import math\n",
    "\n",
    "def isPrime_dumb(n):\n",
    "    if n % 2 == 0:\n",
    "        return False\n",
    "    if  0 in [ (n % i) for i in range(3,int(math.sqrt(n))+1,2)]:\n",
    "        return False\n",
    "    return True\n",
    "\n",
    "print ([i for  i in range(100) if isPrime_dumb(i)])"
   ]
  },
  {
   "cell_type": "markdown",
   "metadata": {},
   "source": [
    "Ahora busquemos los primernos 5000, entre los impares"
   ]
  },
  {
   "cell_type": "code",
   "execution_count": 51,
   "metadata": {},
   "outputs": [
    {
     "name": "stdout",
     "output_type": "stream",
     "text": [
      "119 ms ± 1.42 ms per loop (mean ± std. dev. of 7 runs, 10 loops each)\n"
     ]
    }
   ],
   "source": [
    "%%timeit\n",
    "target = 5000\n",
    "primes = [2,3]\n",
    "theNumber = 5\n",
    "while len(primes) < target:\n",
    "\n",
    "    if isPrime_dumb(theNumber): primes.append(theNumber)\n",
    "    theNumber += 2\n",
    "\n",
    "# print (target,primes[-5:])\n"
   ]
  },
  {
   "attachments": {},
   "cell_type": "markdown",
   "metadata": {},
   "source": [
    "### fuerza bruta\n",
    "ir por todos los números, y ver si no tiene divisores entre los primos inferiores   "
   ]
  },
  {
   "cell_type": "code",
   "execution_count": 20,
   "metadata": {},
   "outputs": [
    {
     "name": "stdout",
     "output_type": "stream",
     "text": [
      "3.55 s ± 60.9 ms per loop (mean ± std. dev. of 7 runs, 1 loop each)\n"
     ]
    }
   ],
   "source": [
    "%%timeit\n",
    "target = 5000\n",
    "primes = [2,3]\n",
    "theNumber = 5\n",
    "while len(primes) < target:\n",
    "\n",
    "    # print (f\"testing # {theNumber}\")\n",
    "    rems = [ (theNumber % prime)  for prime in primes]\n",
    "    \n",
    "    if  0 not in rems:\n",
    "        primes.append(theNumber)\n",
    "       # print(f\"Adding # {theNumber} to get {primes}\")\n",
    "\n",
    "    theNumber += 2\n",
    "\n",
    "# print (target,primes[-1])\n"
   ]
  },
  {
   "attachments": {},
   "cell_type": "markdown",
   "metadata": {},
   "source": [
    "### Fuerza bruta algo optimizada\n",
    "evita calcular todas las divisiones"
   ]
  },
  {
   "cell_type": "code",
   "execution_count": 4,
   "metadata": {},
   "outputs": [
    {
     "name": "stdout",
     "output_type": "stream",
     "text": [
      "5000 48611\n",
      "5000 48611\n",
      "5000 48611\n",
      "5000 48611\n",
      "5000 48611\n",
      "5000 48611\n",
      "5000 48611\n",
      "5000 48611\n",
      "2.16 s ± 31.2 ms per loop (mean ± std. dev. of 7 runs, 1 loop each)\n"
     ]
    }
   ],
   "source": [
    "%%timeit\n",
    "target = 5000\n",
    "primes = [2,3]\n",
    "theNumber = 5\n",
    "while len(primes) < target:\n",
    "\n",
    "    i = 0\n",
    "    while i < len(primes):\n",
    "        if theNumber % primes[i] == 0:\n",
    "            i = len(primes)+1\n",
    "        else:\n",
    "            i  += 1\n",
    "            \n",
    "    if i == len(primes):\n",
    "        primes.append(theNumber)\n",
    "       \n",
    "        \n",
    "    theNumber += 2\n",
    "    \n",
    "print (target,primes[-1])"
   ]
  },
  {
   "cell_type": "markdown",
   "metadata": {},
   "source": []
  },
  {
   "attachments": {},
   "cell_type": "markdown",
   "metadata": {},
   "source": [
    "Modelo recursivo..."
   ]
  },
  {
   "cell_type": "code",
   "execution_count": 6,
   "metadata": {},
   "outputs": [],
   "source": [
    " \n",
    "# Returns true if n is prime, else\n",
    "# return false.\n",
    "# i is current divisor to check.\n",
    "def isPrime(n, i = 2):\n",
    "    ##Base cases\n",
    "    if ( n % 2  == 0 ) or (n % i == 0):\n",
    "        return False\n",
    "\n",
    "    if (i * i > n):\n",
    "        return True\n",
    " \n",
    "    # Check for next divisor\n",
    "    return isPrime(n, i + 1);"
   ]
  },
  {
   "cell_type": "code",
   "execution_count": 38,
   "metadata": {},
   "outputs": [
    {
     "name": "stdout",
     "output_type": "stream",
     "text": [
      "[1, 3, 5, 7, 11, 13, 17, 19, 23, 29, 31, 37, 41, 43, 47, 53, 59, 61, 67, 71, 73, 79, 83, 89, 97]\n"
     ]
    }
   ],
   "source": [
    "\n",
    "print ([i for  i in range(100) if isPrime(i)])"
   ]
  },
  {
   "cell_type": "code",
   "execution_count": 24,
   "metadata": {},
   "outputs": [
    {
     "name": "stdout",
     "output_type": "stream",
     "text": [
      "270 ms ± 21.3 ms per loop (mean ± std. dev. of 7 runs, 1 loop each)\n"
     ]
    }
   ],
   "source": [
    "%%timeit\n",
    "target = 5000\n",
    "primes = [2,3]\n",
    "n = 1 \n",
    "while len(primes) < target:\n",
    "    suspect = 6*n-1\n",
    "    if isPrime(suspect): primes.append(suspect)\n",
    "    if isPrime(suspect+2): primes.append(suspect+2)\n",
    "    n += 1\n",
    "# print(primes[:10],primes[-10:])"
   ]
  },
  {
   "attachments": {},
   "cell_type": "markdown",
   "metadata": {},
   "source": [
    "De hecho, estoy haciendo mucho más de lo necesario...  \n",
    "no voy a chequear los pares, por tanto no voy a dividir por dos..."
   ]
  },
  {
   "cell_type": "code",
   "execution_count": 20,
   "metadata": {},
   "outputs": [],
   "source": [
    "# Returns true if n is prime, else\n",
    "# return false.\n",
    "# i is current divisor to check.\n",
    "def isSmartPrime(n, i = 3):\n",
    "    ##Base cases\n",
    "    if (n % i == 0):\n",
    "        return False\n",
    "\n",
    "    if (i * i > n):\n",
    "        return True\n",
    " \n",
    "    # Check for next divisor\n",
    "    return isSmartPrime(n, i + 2);"
   ]
  },
  {
   "cell_type": "code",
   "execution_count": 22,
   "metadata": {},
   "outputs": [
    {
     "name": "stdout",
     "output_type": "stream",
     "text": [
      "96.8 ms ± 1.07 ms per loop (mean ± std. dev. of 7 runs, 10 loops each)\n"
     ]
    }
   ],
   "source": [
    "%%timeit\n",
    "target = 5000\n",
    "primes = [2,3]\n",
    "n = 1 \n",
    "while len(primes) < target:\n",
    "    suspect = 6*n-1\n",
    "    if isSmartPrime(suspect): primes.append(suspect)\n",
    "    if isSmartPrime(suspect+2): primes.append(suspect+2)\n",
    "    n += 1"
   ]
  },
  {
   "attachments": {},
   "cell_type": "markdown",
   "metadata": {},
   "source": [
    "Combinando la primera y la última..."
   ]
  },
  {
   "cell_type": "markdown",
   "metadata": {},
   "source": []
  },
  {
   "cell_type": "code",
   "execution_count": 57,
   "metadata": {},
   "outputs": [
    {
     "name": "stdout",
     "output_type": "stream",
     "text": [
      "79.9 ms ± 940 µs per loop (mean ± std. dev. of 7 runs, 10 loops each)\n"
     ]
    }
   ],
   "source": [
    "%%timeit\n",
    "target = 5000\n",
    "primes = [2,3]\n",
    "n1 = 5\n",
    "n2 = 7 \n",
    "while len(primes) < target:\n",
    "    if isPrime_dumb(n1): primes.append(n1)\n",
    "    if isPrime_dumb(n2): primes.append(n2)\n",
    "    n1 += 6\n",
    "    n2 += 6"
   ]
  },
  {
   "attachments": {},
   "cell_type": "markdown",
   "metadata": {},
   "source": [
    "supongamos que no los quiero guardar... sólo el primo número 5000"
   ]
  },
  {
   "cell_type": "code",
   "execution_count": 60,
   "metadata": {},
   "outputs": [
    {
     "name": "stdout",
     "output_type": "stream",
     "text": [
      "80.5 ms ± 1.76 ms per loop (mean ± std. dev. of 7 runs, 10 loops each)\n"
     ]
    }
   ],
   "source": [
    "\n",
    "%%timeit\n",
    "target = 5000\n",
    "count  = 2\n",
    "n1 = 5\n",
    "n2 = 7 \n",
    "while count < target:\n",
    "    count  += isPrime_dumb(n1)\n",
    "    count  += isPrime_dumb(n2)\n",
    "    n1 += 6\n",
    "    n2 += 6\n",
    "    "
   ]
  },
  {
   "attachments": {},
   "cell_type": "markdown",
   "metadata": {},
   "source": [
    "no parece que mejore mucho...."
   ]
  },
  {
   "cell_type": "code",
   "execution_count": 114,
   "metadata": {},
   "outputs": [
    {
     "name": "stdout",
     "output_type": "stream",
     "text": [
      "2.22 ms ± 25.7 µs per loop (mean ± std. dev. of 7 runs, 100 loops each)\n"
     ]
    }
   ],
   "source": [
    "%%timeit\n",
    "\n",
    "# these are infinite counters... \n",
    "n1 = itertools.count(5,6)\n",
    "n2 = itertools.count(7,6)\n",
    "target = 500\n",
    "count  = 2\n",
    "for i,j in zip(n1,n2):\n",
    "    count  += isPrime_dumb(i)\n",
    "    count  += isPrime_dumb(j)\n",
    "    if count >= target: break\n",
    "\n",
    "    "
   ]
  },
  {
   "attachments": {},
   "cell_type": "markdown",
   "metadata": {},
   "source": [
    "tengo que ver como escala con cada complejidad algoritmica....  \n",
    "\n",
    "and do the fitting\n"
   ]
  },
  {
   "cell_type": "code",
   "execution_count": 117,
   "metadata": {},
   "outputs": [
    {
     "name": "stdout",
     "output_type": "stream",
     "text": [
      "CPU times: user 12 µs, sys: 0 ns, total: 12 µs\n",
      "Wall time: 14.5 µs\n"
     ]
    },
    {
     "data": {
      "text/plain": [
       "False"
      ]
     },
     "execution_count": 117,
     "metadata": {},
     "output_type": "execute_result"
    }
   ],
   "source": [
    "\n",
    "%time isPrime_dumb(511)"
   ]
  },
  {
   "cell_type": "code",
   "execution_count": 123,
   "metadata": {},
   "outputs": [
    {
     "name": "stdout",
     "output_type": "stream",
     "text": [
      "10000019\n"
     ]
    }
   ],
   "source": [
    "start = int(1E7)\n",
    "interval = 1000\n",
    "\n",
    "for n in range(start,start+interval):\n",
    "    if isPrime_dumb(n):\n",
    "        print (n)\n",
    "        break"
   ]
  },
  {
   "cell_type": "code",
   "execution_count": 4,
   "metadata": {},
   "outputs": [
    {
     "name": "stdout",
     "output_type": "stream",
     "text": [
      "1 test = 11, time = 15.844 us\n",
      "2 test = 101, time = 28.360 us\n",
      "3 test = 1009, time = 33.960 us\n",
      "4 test = 10007, time = 67.277 us\n",
      "5 test = 100003, time = 176.767 us\n",
      "6 test = 1000003, time = 561.230 us\n",
      "7 test = 10000019, time = 2026.457 us\n",
      "8 test = 100000007, time = 5682.484 us\n",
      "9 test = 1000000007, time = 15160.278 us\n",
      "10 test = 10000000019, time = 64406.100 us\n",
      "11 test = 100000000003, time = 222805.342 us\n",
      "12 test = 1000000000039, time = 774246.736 us\n",
      "13 test = 10000000000037, time = 2474662.997 us\n",
      "14 test = 100000000000031, time = 6917528.020 us\n"
     ]
    }
   ],
   "source": [
    "import time\n",
    "n_vec = []\n",
    "t_vec = []\n",
    "for index in range(1,15):\n",
    "    start = int(10**index)\n",
    "    interval = 1000\n",
    "    for n in range(start,start+interval):\n",
    "        if isPrime_dumb(n):\n",
    "            break\n",
    "    n_vec.append(n)\n",
    "    t0 = time.process_time_ns()\n",
    "    for _ in range(10): \n",
    "        isPrime_dumb(n)\n",
    "    t1 = (time.process_time_ns() - t0)/1000.0\n",
    "    t_vec.append(t1)\n",
    "    print (f\"{index} test = {n}, time = {t1:.3F} us\")"
   ]
  },
  {
   "cell_type": "code",
   "execution_count": 19,
   "metadata": {},
   "outputs": [
    {
     "name": "stdout",
     "output_type": "stream",
     "text": [
      "[ 0.49975899 -0.4031372 ]\n"
     ]
    },
    {
     "data": {
      "image/png": "[encoded data removed]",
      "text/plain": [
       "<Figure size 576x576 with 1 Axes>"
      ]
     },
     "metadata": {
      "needs_background": "light"
     },
     "output_type": "display_data"
    }
   ],
   "source": [
    "import matplotlib.pyplot as plt\n",
    "import numpy as np \n",
    "fig, axes = plt.subplots(1,1,figsize=(8,8))\n",
    "axes.plot(n_vec, t_vec,'*')\n",
    "\n",
    "logn = [ math.log(n) for n in n_vec[2:]]\n",
    "logt = [ math.log(t) for t in t_vec[2:]]\n",
    "fit = np.polyfit(logn,logt,1)\n",
    "print (fit)\n",
    "fit_log = np.poly1d(fit)\n",
    "t_fit = [ math.exp(fit_log(val)) for val in logn]\n",
    "axes.plot(n_vec[2:],t_fit,label=str(fit[0]))\n",
    "axes.set(xlabel='log N', ylabel='log T (us)',  title=f'is Prime_dumb, fit is {fit[0]:.3f} ')\n",
    "axes.set_yscale('log')\n",
    "axes.set_xscale('log')\n",
    "axes.grid()\n",
    "plt.show()"
   ]
  },
  {
   "cell_type": "code",
   "execution_count": null,
   "metadata": {},
   "outputs": [],
   "source": [
    "import numpy as np \n"
   ]
  }
 ],
 "metadata": {
  "kernelspec": {
   "display_name": "Python 3",
   "language": "python",
   "name": "python3"
  },
  "language_info": {
   "codemirror_mode": {
    "name": "ipython",
    "version": 3
   },
   "file_extension": ".py",
   "mimetype": "text/x-python",
   "name": "python",
   "nbconvert_exporter": "python",
   "pygments_lexer": "ipython3",
   "version": "3.10.6 (main, Nov 14 2022, 16:10:14) [GCC 11.3.0]"
  },
  "orig_nbformat": 4,
  "vscode": {
   "interpreter": {
    "hash": "916dbcbb3f70747c44a77c7bcd40155683ae19c65e1c03b4aa3499c5328201f1"
   }
  }
 },
 "nbformat": 4,
 "nbformat_minor": 2
}
