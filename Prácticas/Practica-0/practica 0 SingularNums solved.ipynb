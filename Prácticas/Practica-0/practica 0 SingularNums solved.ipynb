{
 "cells": [
  {
   "cell_type": "markdown",
   "metadata": {},
   "source": [
    "# Practica 1: Números singulares\n",
    "(rev 21/01/24)"
   ]
  },
  {
   "cell_type": "code",
   "execution_count": 59,
   "metadata": {},
   "outputs": [],
   "source": [
    "# imports\n",
    "import random\n",
    "from time import process_time_ns as pt\n",
    "\n",
    "# we use nd for vector operations and linear and polynomial fit\n",
    "import numpy as nd\n",
    "from itertools import compress\n",
    "\n",
    "import matplotlib.pyplot as plt"
   ]
  },
  {
   "cell_type": "code",
   "execution_count": 60,
   "metadata": {},
   "outputs": [
    {
     "name": "stdout",
     "output_type": "stream",
     "text": [
      "buildRandomList defined\n"
     ]
    }
   ],
   "source": [
    "def buildRandomList(len, maxVal):\n",
    "    return [random.randint(0,maxVal) for _ in range(len)]\n",
    "\n",
    "print (\"buildRandomList defined\")"
   ]
  },
  {
   "cell_type": "markdown",
   "metadata": {},
   "source": [
    "# Lets do a simple pythonic algorithm, using the sum function "
   ]
  },
  {
   "cell_type": "code",
   "execution_count": 61,
   "metadata": {},
   "outputs": [
    {
     "name": "stdout",
     "output_type": "stream",
     "text": [
      "findSingularNumsV2 defined\n"
     ]
    }
   ],
   "source": [
    "def findSingularNumsV0(vec):\n",
    "    average = vec[0]\n",
    "    singular = []\n",
    "    for k in range (1,len(vec)):\n",
    "        if vec[k] == sum(vec[:k])/k: \n",
    "            singular.append(k)\n",
    "    \n",
    "    return singular\n",
    "print (\"findSingularNumsV2 defined\")"
   ]
  },
  {
   "cell_type": "markdown",
   "metadata": {},
   "source": [
    "### What is the complexity of this code ?\n",
    "* There is a k loop at line 4\n",
    "* ... and an implicit loop in the sum\n",
    "\n",
    "Both are of O(n) where n in the length of the sequence.... \n",
    "\n",
    "$\\Rightarrow $ the complexity of this code is $ O(n^2)$\n",
    "\n",
    "Let measure it and prove it is so..."
   ]
  },
  {
   "cell_type": "code",
   "execution_count": 62,
   "metadata": {},
   "outputs": [
    {
     "name": "stdout",
     "output_type": "stream",
     "text": [
      "Find singularName alg for length 2 mean=0.002673 ms dev=0.006699 ms\n",
      "Find singularName alg for length 4 mean=0.002865 ms dev=0.000452 ms\n",
      "Find singularName alg for length 8 mean=0.004259 ms dev=0.005331 ms\n",
      "Find singularName alg for length 16 mean=0.008154 ms dev=0.014999 ms\n",
      "Find singularName alg for length 32 mean=0.015217 ms dev=0.004395 ms\n",
      "Find singularName alg for length 64 mean=0.040509 ms dev=0.021176 ms\n",
      "Find singularName alg for length 128 mean=0.157804 ms dev=0.039347 ms\n",
      "Find singularName alg for length 256 mean=0.337704 ms dev=0.090433 ms\n",
      "Find singularName alg for length 512 mean=1.096055 ms dev=0.155431 ms\n",
      "Find singularName alg for length 1024 mean=4.631461 ms dev=0.985194 ms\n",
      "Find singularName alg for length 2048 mean=16.280107 ms dev=2.024628 ms\n"
     ]
    }
   ],
   "source": [
    "max_value = 100\n",
    "repeatTimes = 1000\n",
    "x = []\n",
    "exeTimes = []\n",
    "\n",
    "for i in range(1,12):\n",
    "    n = 2**i\n",
    "    # print (F\"Measuring Alg for length {n}. Repeating {repeatTimes} Times\")\n",
    "    processTime = []\n",
    "    \n",
    "    for trial in range(repeatTimes):\n",
    "        vec = buildRandomList(n,max_value)\n",
    "        t0 = pt()\n",
    "        findSingularNumsV0(vec)\n",
    "        processTime.append((pt() - t0)/1E6)\n",
    "    \n",
    "    mean = nd.mean(processTime)\n",
    "    dev  = nd.std(processTime)\n",
    "    x.append(n);exeTimes.append(mean)\n",
    "    print (F\"Find singularName alg for length {n} mean={mean:.6f} ms dev={dev:.6f} ms\")    \n",
    "    "
   ]
  },
  {
   "cell_type": "code",
   "execution_count": 63,
   "metadata": {},
   "outputs": [
    {
     "name": "stdout",
     "output_type": "stream",
     "text": [
      "   2  0.002673 , -0.022610 ,0.025283 \n",
      "   4  0.002865 , -0.021007 ,0.023872 \n",
      "   8  0.004259 , -0.017716 ,0.021974 \n",
      "  16  0.008154 , -0.010796 ,0.018950 \n",
      "  32  0.015217 , 0.004393 ,0.010824 \n",
      "  64  0.040509 , 0.040166 ,0.000343 \n",
      " 128  0.157804 , 0.133297 ,0.024506 \n",
      " 256  0.337704 , 0.405899 ,-0.068195 \n",
      " 512  1.096055 , 1.296456 ,-0.200401 \n",
      "1024  4.631461 , 4.458990 ,0.172471 \n",
      "2048  16.280107 , 16.309734 ,-0.029627 \n"
     ]
    },
    {
     "data": {
      "image/png": "[encoded data removed]",
      "text/plain": [
       "<Figure size 432x288 with 1 Axes>"
      ]
     },
     "metadata": {
      "needs_background": "light"
     },
     "output_type": "display_data"
    }
   ],
   "source": [
    "fit  = nd.polyfit(x,exeTimes,2)\n",
    "linfit = (fit[2]+ fit[1]*nd.array(x)+ fit[0]*(nd.array(x)**2)) \n",
    "for n,a,b in zip(x, exeTimes, linfit):\n",
    "    print ( f\"{n:4d}  {a:.6f} , {b:.6f} ,{(a-b):.6f} \")\n",
    "    \n",
    "\n",
    "fig, ax = plt.subplots()\n",
    "\n",
    "\n",
    "ax.plot(x, exeTimes)\n",
    "ax.plot(x, linfit)\n",
    "\n",
    "plt.show()"
   ]
  },
  {
   "cell_type": "markdown",
   "metadata": {},
   "source": [
    "# Let be Smarter that that\n",
    "Lets compute the averages on a recursive, incremental way. Notice that:\n",
    "\n",
    "$$ \\bar a_k  =   \\bar a_{k-1} + { {a_k - \\bar a_{k-1}}\\over{k}}$$"
   ]
  },
  {
   "cell_type": "code",
   "execution_count": 64,
   "metadata": {},
   "outputs": [
    {
     "name": "stdout",
     "output_type": "stream",
     "text": [
      "findSingularNums V1  defined\n"
     ]
    }
   ],
   "source": [
    "def findSingularNumsV1(vec):\n",
    "    average = vec[0]\n",
    "    singular = []\n",
    "    for k in range (1,len(vec)):\n",
    "        average += (vec[k-1] - average)/k\n",
    "        if vec[k] == average:\n",
    "            singular.append(k)\n",
    "    \n",
    "    return singular\n",
    "print (\"findSingularNums V1  defined\")"
   ]
  },
  {
   "cell_type": "code",
   "execution_count": 65,
   "metadata": {},
   "outputs": [
    {
     "name": "stdout",
     "output_type": "stream",
     "text": [
      "[3, 7]\n"
     ]
    }
   ],
   "source": [
    "# test case, should return two singular positions at 3, and 7\n",
    "vec = [8, 9, 4, 7, 20, 10, 5, 9, 2]\n",
    "print  (findSingularNumsV1(vec))"
   ]
  },
  {
   "cell_type": "markdown",
   "metadata": {},
   "source": [
    "### Lets see that the algorithm is linear....\n",
    "\n",
    "Regardless of the larger, but n-independent complexity of the loop, it iterates n times, so complexity must be $O(n)$, that is it runs in **linear time**\n",
    "\n",
    "Let's see it experimentally"
   ]
  },
  {
   "cell_type": "code",
   "execution_count": 66,
   "metadata": {},
   "outputs": [
    {
     "name": "stdout",
     "output_type": "stream",
     "text": [
      "Find singularName alg for length 2 mean=0.003992 ms dev=0.020215 ms\n",
      "Find singularName alg for length 4 mean=0.004772 ms dev=0.006718 ms\n",
      "Find singularName alg for length 8 mean=0.005883 ms dev=0.007254 ms\n",
      "Find singularName alg for length 16 mean=0.005554 ms dev=0.001622 ms\n",
      "Find singularName alg for length 32 mean=0.009571 ms dev=0.003021 ms\n",
      "Find singularName alg for length 64 mean=0.017498 ms dev=0.005472 ms\n",
      "Find singularName alg for length 128 mean=0.034969 ms dev=0.016976 ms\n",
      "Find singularName alg for length 256 mean=0.049613 ms dev=0.011970 ms\n",
      "Find singularName alg for length 512 mean=0.115358 ms dev=0.066101 ms\n",
      "Find singularName alg for length 1024 mean=0.248546 ms dev=0.078102 ms\n",
      "Find singularName alg for length 2048 mean=0.459422 ms dev=0.127008 ms\n"
     ]
    }
   ],
   "source": [
    "\n",
    "max_value = 100\n",
    "repeatTimes = 1000\n",
    "x = []\n",
    "exeTimes = []\n",
    "\n",
    "for i in range(1,12):\n",
    "    n = 2**i\n",
    "    # print (F\"Measuring Alg for length {n}. Repeating {repeatTimes} Times\")\n",
    "    processTime = []\n",
    "    \n",
    "    for trial in range(repeatTimes):\n",
    "        vec = buildRandomList(n,max_value)\n",
    "        t0 = pt()\n",
    "        findSingularNumsV1(vec)\n",
    "        processTime.append((pt() - t0)/1E6)\n",
    "    \n",
    "    mean = nd.mean(processTime)\n",
    "    dev  = nd.std(processTime)\n",
    "    x.append(n);exeTimes.append(mean)\n",
    "    print (F\"Find singularName alg for length {n} mean={mean:.6f} ms dev={dev:.6f} ms\")    \n",
    "    "
   ]
  },
  {
   "cell_type": "code",
   "execution_count": 67,
   "metadata": {},
   "outputs": [
    {
     "name": "stdout",
     "output_type": "stream",
     "text": [
      "   2  0.003992 , 0.003336 ,0.000656 \n",
      "   4  0.004772 , 0.003787 ,0.000985 \n",
      "   8  0.005883 , 0.004689 ,0.001193 \n",
      "  16  0.005554 , 0.006494 ,-0.000940 \n",
      "  32  0.009571 , 0.010103 ,-0.000532 \n",
      "  64  0.017498 , 0.017321 ,0.000177 \n",
      " 128  0.034969 , 0.031756 ,0.003213 \n",
      " 256  0.049613 , 0.060628 ,-0.011015 \n",
      " 512  0.115358 , 0.118372 ,-0.003014 \n",
      "1024  0.248546 , 0.233859 ,0.014687 \n",
      "2048  0.459422 , 0.464833 ,-0.005411 \n"
     ]
    },
    {
     "data": {
      "image/png": "[encoded data removed]",
      "text/plain": [
       "<Figure size 432x288 with 1 Axes>"
      ]
     },
     "metadata": {
      "needs_background": "light"
     },
     "output_type": "display_data"
    }
   ],
   "source": [
    "def new_func():\n",
    "    fit  = nd.polyfit(x,exeTimes,1)\n",
    "    linfit = (fit[1]+ fit[0]*nd.array(x)) \n",
    "    for n,a,b in zip(x, exeTimes, linfit):\n",
    "        print ( f\"{n:4d}  {a:.6f} , {b:.6f} ,{(a-b):.6f} \")\n",
    "    \n",
    "\n",
    "    fig, ax = plt.subplots()\n",
    "\n",
    "\n",
    "    ax.plot(x, exeTimes,'*')\n",
    "    ax.plot(x, linfit)\n",
    "\n",
    "    plt.show()\n",
    "\n",
    "new_func()"
   ]
  },
  {
   "cell_type": "markdown",
   "metadata": {},
   "source": [
    "### here is a vector implementation of the above V1 coce, using vectorized python"
   ]
  },
  {
   "cell_type": "code",
   "execution_count": 75,
   "metadata": {},
   "outputs": [
    {
     "name": "stdout",
     "output_type": "stream",
     "text": [
      "findSingularNumsv2 defined\n",
      "[8, 7, 9]\n"
     ]
    }
   ],
   "source": [
    "def findSingularNumsV2(vec):\n",
    "    aver = nd.zeros(len(vec))\n",
    "    \n",
    "    aver[0] = aver[1] = vec[0]\n",
    "    for k in range (2,len(vec)):\n",
    "        aver[k] = aver[k-1] +  (vec[k-1] - aver[k-1])/k\n",
    "        \n",
    "    singular = (vec == aver)\n",
    "            \n",
    "    return list(compress(vec,singular))\n",
    "print (\"findSingularNumsv2 defined\")\n",
    "\n",
    "vec = [8, 9, 4, 7, 20, 10, 5, 9, 2]\n",
    "print  (findSingularNumsV2(vec))"
   ]
  },
  {
   "cell_type": "code",
   "execution_count": 69,
   "metadata": {},
   "outputs": [
    {
     "name": "stdout",
     "output_type": "stream",
     "text": [
      "Find singularName alg for length 2 mean=0.024484 ms dev=0.055957 ms\n",
      "Find singularName alg for length 4 mean=0.025803 ms dev=0.013329 ms\n",
      "Find singularName alg for length 8 mean=0.025644 ms dev=0.007642 ms\n",
      "Find singularName alg for length 16 mean=0.031194 ms dev=0.017173 ms\n",
      "Find singularName alg for length 32 mean=0.054781 ms dev=0.034409 ms\n",
      "Find singularName alg for length 64 mean=0.081558 ms dev=0.014571 ms\n",
      "Find singularName alg for length 128 mean=0.149709 ms dev=0.020976 ms\n",
      "Find singularName alg for length 256 mean=0.330070 ms dev=0.086689 ms\n",
      "Find singularName alg for length 512 mean=0.696810 ms dev=0.188783 ms\n",
      "Find singularName alg for length 1024 mean=1.311803 ms dev=0.339459 ms\n",
      "Find singularName alg for length 2048 mean=2.338166 ms dev=0.552033 ms\n"
     ]
    }
   ],
   "source": [
    "max_value = 100\n",
    "repeatTimes = 1000\n",
    "x = []\n",
    "exeTimes = []\n",
    "\n",
    "for i in range(1,12):\n",
    "    n = 2**i\n",
    "    # print (F\"Measuring Alg for length {n}. Repeating {repeatTimes} Times\")\n",
    "    processTime = []\n",
    "    \n",
    "    for trial in range(repeatTimes):\n",
    "        vec = nd.array(buildRandomList(n,max_value))\n",
    "        t0 = pt()\n",
    "        findSingularNumsV2(vec)\n",
    "        processTime.append((pt() - t0)/1E6)\n",
    "    \n",
    "    mean = nd.mean(processTime)\n",
    "    dev  = nd.std(processTime)\n",
    "    x.append(n);exeTimes.append(mean)\n",
    "    print (F\"Find singularName alg for length {n} mean={mean:.6f} ms dev={dev:.6f} ms\")    "
   ]
  },
  {
   "cell_type": "markdown",
   "metadata": {},
   "source": [
    "# We can go even Further V3\n",
    "It can demostrated that  if $a_j$  is singular then $a_k$  for $ k > j $ it is also singular if : \n",
    "$$ q = \\sum_{i = j+1}^{i=k-1}(a_i-a_j)/k \\enspace ; \\enspace  q  \\in \\cal{Q} $$\n",
    "$$a_k = a_j + q $$\n",
    "where $ \\cal{Q}$  is the set of whole positive numbers.  \n",
    "That is the **increment  is a multiple of k, making the new average an whole  number** \n",
    "\n",
    "### this leads to another recurvise, but still linear algorithm, our V3"
   ]
  },
  {
   "cell_type": "code",
   "execution_count": 70,
   "metadata": {},
   "outputs": [
    {
     "data": {
      "text/plain": [
       "[(3, 7), (7, 9)]"
      ]
     },
     "execution_count": 70,
     "metadata": {},
     "output_type": "execute_result"
    }
   ],
   "source": [
    " \n",
    "def findSingularNumsV3(vec, offset, singularValues):\n",
    "    k = 1\n",
    "    k_abs = offset+1\n",
    "    summ = 0\n",
    "    while k < len(vec):\n",
    "        q = (summ - vec[0]*(k-1))\n",
    "        if ( q % k_abs == 0  ) and vec[k] == (vec[0] + q / k_abs):\n",
    "            singularValues.append((k_abs,vec[k]))\n",
    "            \n",
    "            # now go find the next in the fw part of the list, starting at the last singular value found\n",
    "            findSingularNumsV3(vec[k:],k_abs,singularValues)\n",
    "            \n",
    "            # as the return break out\n",
    "            break\n",
    "        \n",
    "        else:\n",
    "             # prepare the summ for the next...\n",
    "            summ += vec[k]\n",
    "            k  += 1\n",
    "            k_abs += 1\n",
    "\n",
    "    return singularValues\n",
    "vec = [8, 9, 4, 7, 20, 10, 5, 9, 2]\n",
    "findSingularNumsV3(vec,0,[])\n"
   ]
  },
  {
   "cell_type": "markdown",
   "metadata": {},
   "source": [
    "### Again, lets benchmark this last code V3"
   ]
  },
  {
   "cell_type": "code",
   "execution_count": 71,
   "metadata": {},
   "outputs": [
    {
     "name": "stdout",
     "output_type": "stream",
     "text": [
      "Find singularName alg for length 2 mean=0.003175 ms dev=0.006534 ms\n",
      "Find singularName alg for length 4 mean=0.005336 ms dev=0.001525 ms\n",
      "Find singularName alg for length 8 mean=0.007739 ms dev=0.001688 ms\n",
      "Find singularName alg for length 16 mean=0.012276 ms dev=0.002438 ms\n",
      "Find singularName alg for length 32 mean=0.016773 ms dev=0.004782 ms\n",
      "Find singularName alg for length 64 mean=0.035351 ms dev=0.009555 ms\n",
      "Find singularName alg for length 128 mean=0.069426 ms dev=0.012462 ms\n",
      "Find singularName alg for length 256 mean=0.108012 ms dev=0.037353 ms\n",
      "Find singularName alg for length 512 mean=0.187250 ms dev=0.056177 ms\n",
      "Find singularName alg for length 1024 mean=0.364702 ms dev=0.080054 ms\n",
      "Find singularName alg for length 2048 mean=0.842390 ms dev=0.233032 ms\n",
      "Find singularName alg for length 4096 mean=1.718349 ms dev=0.460887 ms\n",
      "Find singularName alg for length 8192 mean=3.221961 ms dev=0.657674 ms\n"
     ]
    }
   ],
   "source": [
    "max_value = 100\n",
    "repeatTimes = 1000\n",
    "x = []\n",
    "exeTimes = []\n",
    "\n",
    "for i in range(1,14):\n",
    "    n = 2**i\n",
    "    # print (F\"Measuring Alg for length {n}. Repeating {repeatTimes} Times\")\n",
    "    processTime = []\n",
    "    \n",
    "    for trial in range(repeatTimes):\n",
    "        vec = buildRandomList(n,max_value)\n",
    "        t0 = pt()\n",
    "        findSingularNumsV3(vec,0,[])\n",
    "        processTime.append((pt() - t0)/1E6)\n",
    "    \n",
    "    mean = nd.mean(processTime)\n",
    "    dev  = nd.std(processTime)\n",
    "    x.append(n);exeTimes.append(mean)\n",
    "    print (F\"Find singularName alg for length {n} mean={mean:.6f} ms dev={dev:.6f} ms\")    "
   ]
  },
  {
   "cell_type": "code",
   "execution_count": 72,
   "metadata": {},
   "outputs": [
    {
     "name": "stdout",
     "output_type": "stream",
     "text": [
      "   2  0.003175 , 0.007069 ,-0.003894 \n",
      "   4  0.005336 , 0.007864 ,-0.002528 \n",
      "   8  0.007739 , 0.009454 ,-0.001715 \n",
      "  16  0.012276 , 0.012633 ,-0.000357 \n",
      "  32  0.016773 , 0.018993 ,-0.002220 \n",
      "  64  0.035351 , 0.031712 ,0.003639 \n",
      " 128  0.069426 , 0.057149 ,0.012277 \n",
      " 256  0.108012 , 0.108024 ,-0.000011 \n",
      " 512  0.187250 , 0.209773 ,-0.022523 \n",
      "1024  0.364702 , 0.413272 ,-0.048571 \n",
      "2048  0.842390 , 0.820271 ,0.022120 \n",
      "4096  1.718349 , 1.634267 ,0.084083 \n",
      "8192  3.221961 , 3.262260 ,-0.040299 \n"
     ]
    },
    {
     "data": {
      "image/png": "[encoded data removed]",
      "text/plain": [
       "<Figure size 432x288 with 1 Axes>"
      ]
     },
     "metadata": {
      "needs_background": "light"
     },
     "output_type": "display_data"
    }
   ],
   "source": [
    "fit  = nd.polyfit(x,exeTimes,1)\n",
    "linfit = (fit[1]+ fit[0]*nd.array(x)) \n",
    "for n,a,b in zip(x, exeTimes, linfit):\n",
    "    print ( f\"{n:4d}  {a:.6f} , {b:.6f} ,{(a-b):.6f} \")\n",
    "\n",
    "fig, ax = plt.subplots()\n",
    "\n",
    "\n",
    "ax.plot(x, exeTimes)\n",
    "ax.plot(x, linfit)\n",
    "\n",
    "plt.show()"
   ]
  },
  {
   "cell_type": "code",
   "execution_count": 73,
   "metadata": {},
   "outputs": [],
   "source": [
    "n = 10000\n",
    "maxVal = 100\n",
    "repeat = 5\n",
    "for _ in range(repeat):\n",
    "    sn = findSingularNumsV3(buildRandomList(n,maxVal),0,[])\n",
    "    if len(sn) > 0: print (_,sn)"
   ]
  },
  {
   "cell_type": "code",
   "execution_count": 74,
   "metadata": {},
   "outputs": [
    {
     "data": {
      "text/plain": [
       "[(1, 1), (2, 1), (3, 1), (4, 1), (5, 1), (6, 1), (7, 1), (8, 1), (9, 1)]"
      ]
     },
     "execution_count": 74,
     "metadata": {},
     "output_type": "execute_result"
    }
   ],
   "source": [
    "# lets do a further check. \n",
    "findSingularNumsV3([1]*10,0,[])"
   ]
  }
 ],
 "metadata": {
  "kernelspec": {
   "display_name": "Python 3 (ipykernel)",
   "language": "python",
   "name": "python3"
  },
  "language_info": {
   "codemirror_mode": {
    "name": "ipython",
    "version": 3
   },
   "file_extension": ".py",
   "mimetype": "text/x-python",
   "name": "python",
   "nbconvert_exporter": "python",
   "pygments_lexer": "ipython3",
   "version": "3.10.12"
  },
  "vscode": {
   "interpreter": {
    "hash": "916dbcbb3f70747c44a77c7bcd40155683ae19c65e1c03b4aa3499c5328201f1"
   }
  }
 },
 "nbformat": 4,
 "nbformat_minor": 2
}
