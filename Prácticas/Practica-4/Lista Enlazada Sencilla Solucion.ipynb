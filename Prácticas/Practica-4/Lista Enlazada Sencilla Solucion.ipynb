{
 "cells": [
  {
   "cell_type": "markdown",
   "metadata": {},
   "source": [
    "## Lista enlazada simple"
   ]
  },
  {
   "cell_type": "code",
   "execution_count": 1,
   "metadata": {},
   "outputs": [],
   "source": [
    "class Nodo:\n",
    "    def __init__(self, nombre):\n",
    "        self.nombre = nombre\n",
    "        self.next = None"
   ]
  },
  {
   "cell_type": "code",
   "execution_count": 2,
   "metadata": {},
   "outputs": [],
   "source": [
    "class LinkedList:\n",
    "    def __init__(self):\n",
    "        self.start_nodo = None\n",
    "        \n",
    "    def Mostrar_lista(self):\n",
    "        if self.start_nodo is None:\n",
    "            print(\"Lista Vacía\")\n",
    "            return\n",
    "        else:\n",
    "            n = self.start_nodo\n",
    "            while n is not None:\n",
    "                print(n.nombre , \" \")\n",
    "                n = n.next\n",
    "    def Insertar(self, nombre):\n",
    "        new_nodo = Nodo(nombre)\n",
    "        new_nodo.next = self.start_nodo\n",
    "        self.start_nodo= new_nodo\n",
    "    \n",
    "    def Buscar(self, x):\n",
    "        if self.start_nodo is None:\n",
    "            print(\"Lista Vacía\")\n",
    "            return\n",
    "        n = self.start_nodo\n",
    "        while n is not None:\n",
    "            if n.nombre == x:\n",
    "                print(\"Elemento Encontrado\")\n",
    "                return True\n",
    "            n = n.next\n",
    "        print(\"Elemento no encontrado\")\n",
    "        return False\n",
    "    \n",
    "   "
   ]
  },
  {
   "cell_type": "code",
   "execution_count": 3,
   "metadata": {},
   "outputs": [],
   "source": [
    "lista = LinkedList() #creoamos el objeto lista"
   ]
  },
  {
   "cell_type": "code",
   "execution_count": 4,
   "metadata": {},
   "outputs": [],
   "source": [
    "#Insertamos nodos\n",
    "lista.Insertar(18)"
   ]
  },
  {
   "cell_type": "code",
   "execution_count": 5,
   "metadata": {},
   "outputs": [
    {
     "name": "stdout",
     "output_type": "stream",
     "text": [
      "18  \n"
     ]
    }
   ],
   "source": [
    "lista.Mostrar_lista()"
   ]
  },
  {
   "cell_type": "code",
   "execution_count": 6,
   "metadata": {},
   "outputs": [],
   "source": [
    "lista.Insertar(18)\n",
    "lista.Insertar(23)\n",
    "lista.Insertar(45)\n",
    "lista.Insertar(84)"
   ]
  },
  {
   "cell_type": "code",
   "execution_count": 7,
   "metadata": {},
   "outputs": [
    {
     "name": "stdout",
     "output_type": "stream",
     "text": [
      "84  \n",
      "45  \n",
      "23  \n",
      "18  \n",
      "18  \n"
     ]
    }
   ],
   "source": [
    "lista.Mostrar_lista()"
   ]
  }
 ],
 "metadata": {
  "kernelspec": {
   "display_name": "Python 3",
   "language": "python",
   "name": "python3"
  },
  "language_info": {
   "codemirror_mode": {
    "name": "ipython",
    "version": 3
   },
   "file_extension": ".py",
   "mimetype": "text/x-python",
   "name": "python",
   "nbconvert_exporter": "python",
   "pygments_lexer": "ipython3",
   "version": "3.10.12"
  }
 },
 "nbformat": 4,
 "nbformat_minor": 2
}
