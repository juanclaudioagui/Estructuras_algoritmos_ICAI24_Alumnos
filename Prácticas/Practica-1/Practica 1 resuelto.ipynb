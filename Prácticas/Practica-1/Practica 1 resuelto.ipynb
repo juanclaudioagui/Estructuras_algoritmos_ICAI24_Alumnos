{
 "cells": [
  {
   "cell_type": "markdown",
   "metadata": {},
   "source": [
    "---\n",
    "## EJERCICIO 1 – Torres de Hanoi\n",
    "\n",
    "Las Torres de Hanói es un rompecabezas o juego matemático inventado en 1883 por el matemático francés Édouard Lucas.\n",
    "Este juego de mesa individual consiste en un número de discos perforados de radio creciente que se apilan insertándose\n",
    "en uno de los tres postes fijados a un tablero. El objetivo del juego es trasladar la pila a otro de los postes siguiendo \n",
    "ciertas reglas, como que no se puede colocar un disco más grande encima de un disco más pequeño. \n",
    "\n",
    "El problema es muy conocido en la ciencia de la computación y aparece en muchos libros de texto como introducción a la teoría d\n",
    "e algoritmos. https://es.wikipedia.org/wiki/Torres_de_Han%C3%B3i\n",
    "\n",
    "Se pide al alumno programar un algoritmo que resuelva el problema de las Torres de Hanoi de manera recursiva, \n",
    "y medir el tiempo que tarda con 7 discos.\n",
    "\n",
    "\n",
    "### Esquema solución recursiva\n",
    "the solution to the N problem, defined as moving a stack of n elemenst form source to target using Aux rod is, names as Hanoi(N,Source,Target,Aux)  \n",
    "If you could solve the N-1 problem then the N problem can be solved as follows:\n",
    "\n",
    "<ol>\n",
    "<li>take the n-1 top from source rod into the Aux rod y using Target as auxiliary Rod.</li>\n",
    "<li>Mov the n-th disk, now on top, to the target</li>\n",
    "<li>take the n-1 disks from the auxiliary in to the target, using Aux as auxiliary rod</li>\n",
    "</ol>\n",
    "Now, the first, and third moves, can be defined as: Hanoi(N-1,Source, Aux, Target) and Hanoi (N-1, Aux, Target, Source)  \n",
    "which, in the end, decomposes into moves of size N-2, and so on....\n",
    "\n",
    "When N = 0, just return...\n",
    "\n"
   ]
  },
  {
   "cell_type": "code",
   "execution_count": 17,
   "metadata": {
    "vscode": {
     "languageId": "shellscript"
    }
   },
   "outputs": [
    {
     "name": "stdout",
     "output_type": "stream",
     "text": [
      "hanoi_solve Defined\n"
     ]
    }
   ],
   "source": [
    "import time\n",
    "count =  0\n",
    "def hanoi_solve(n, source, target, auxiliary,display_progres):\n",
    "    global count\n",
    "    global A,B,C\n",
    "    \n",
    "    if n > 0:\n",
    "        # Move n - 1 disks from source to auxiliary, so they are out of the way\n",
    "        hanoi_solve(n - 1, source, auxiliary, target,display_progres)\n",
    "\n",
    "        # Move the last disk from source to target\n",
    "        target.append(source.pop())\n",
    "\n",
    "        # Count our iterations\n",
    "        count += 1\n",
    "        # Display our progress\n",
    "        if display_progres:\n",
    "            print (\"%d ############\" % count)\n",
    "            print (\"A\", A)\n",
    "            print (\"B\", B)\n",
    "            print (\"C\", C)\n",
    "        \n",
    "        # Move the n - 1 disks that we left on auxiliary onto target, using source as auxiliary\n",
    "        hanoi_solve(n - 1, auxiliary, target, source,display_progres)\n",
    "        \n",
    "    return count\n",
    "\n",
    "print (\"hanoi_solve Defined\")"
   ]
  },
  {
   "cell_type": "code",
   "execution_count": null,
   "metadata": {
    "vscode": {
     "languageId": "shellscript"
    }
   },
   "outputs": [],
   "source": [
    "count = 0\n",
    "size = 3\n",
    "A = list(range(size,0,-1))\n",
    "B = []\n",
    "C = []\n",
    "print (f\"Hanoi Problems solved in {hanoi_solve(size, A, C, B,True)} steps\")"
   ]
  },
  {
   "cell_type": "code",
   "execution_count": 32,
   "metadata": {
    "vscode": {
     "languageId": "shellscript"
    }
   },
   "outputs": [
    {
     "name": "stdout",
     "output_type": "stream",
     "text": [
      "Solving Hanoi of size 2 takes 3 iterations and 0.0000 secs\n",
      "Solving Hanoi of size 3 takes 7 iterations and 0.0000 secs\n",
      "Solving Hanoi of size 4 takes 15 iterations and 0.0000 secs\n",
      "Solving Hanoi of size 5 takes 31 iterations and 0.0000 secs\n",
      "Solving Hanoi of size 6 takes 63 iterations and 0.0000 secs\n",
      "Solving Hanoi of size 7 takes 127 iterations and 0.0001 secs\n",
      "Solving Hanoi of size 8 takes 255 iterations and 0.0001 secs\n",
      "Solving Hanoi of size 9 takes 511 iterations and 0.0003 secs\n",
      "Solving Hanoi of size 10 takes 1023 iterations and 0.0005 secs\n",
      "Solving Hanoi of size 11 takes 2047 iterations and 0.0011 secs\n",
      "Solving Hanoi of size 12 takes 4095 iterations and 0.0036 secs\n",
      "Solving Hanoi of size 13 takes 8191 iterations and 0.0106 secs\n",
      "Solving Hanoi of size 14 takes 16383 iterations and 0.0165 secs\n",
      "Solving Hanoi of size 15 takes 32767 iterations and 0.0310 secs\n",
      "Solving Hanoi of size 16 takes 65535 iterations and 0.0383 secs\n",
      "Solving Hanoi of size 17 takes 131071 iterations and 0.0894 secs\n",
      "Solving Hanoi of size 18 takes 262143 iterations and 0.1668 secs\n",
      "Solving Hanoi of size 19 takes 524287 iterations and 0.3296 secs\n",
      "Solving Hanoi of size 20 takes 1048575 iterations and 0.5884 secs\n",
      "Solving Hanoi of size 21 takes 2097151 iterations and 1.3519 secs\n",
      "Solving Hanoi of size 22 takes 4194303 iterations and 2.2412 secs\n",
      "Solving Hanoi of size 23 takes 8388607 iterations and 4.4539 secs\n",
      "Solving Hanoi of size 24 takes 16777215 iterations and 8.6077 secs\n"
     ]
    }
   ],
   "source": [
    "# Initiate call from source A to target C with auxiliary B\n",
    "\n",
    "hanoi_t = []\n",
    "hanoi_s = []\n",
    "\n",
    "for size in range(2,25):\n",
    "    count = 0     \n",
    "    A = list(range(size,0,-1))\n",
    "    B = []\n",
    "    C = []\n",
    "    t0 = time.time()\n",
    "    count = hanoi_solve(size, A, C, B,False)\n",
    "    e_t = time.time() - t0\n",
    "    hanoi_t.append(count)\n",
    "    hanoi_s.append(size)\n",
    "\n",
    "    print (\"Solving Hanoi of size %d takes %d iterations and %.4f secs\" % ( size,count, e_t))\n",
    "    "
   ]
  },
  {
   "cell_type": "markdown",
   "metadata": {},
   "source": [
    "### Lets plot it..."
   ]
  },
  {
   "cell_type": "code",
   "execution_count": 47,
   "metadata": {
    "vscode": {
     "languageId": "shellscript"
    }
   },
   "outputs": [
    {
     "name": "stdout",
     "output_type": "stream",
     "text": [
      "[ 0.69860494 -0.09481669]\n"
     ]
    },
    {
     "data": {
      "image/png": "[encoded data removed]",
      "text/plain": [
       "<Figure size 432x288 with 1 Axes>"
      ]
     },
     "metadata": {
      "needs_background": "light"
     },
     "output_type": "display_data"
    }
   ],
   "source": [
    "import matplotlib.pyplot as plt\n",
    "import numpy as nd\n",
    "import math\n",
    "\n",
    "lhanoi_t = [ math.log(t) for t in hanoi_t]\n",
    "fit  = nd.polyfit(hanoi_s,lhanoi_t,1)\n",
    "print (fit)\n",
    "fig,ax = plt.subplots()\n",
    "ax.plot(hanoi_s,hanoi_t)\n",
    "ax.set_yscale('log')\n",
    "ax.set_xlabel('Size of Stack')\n",
    "ax.set_ylabel('Count Ops (log)')\n",
    "ax.set_title(f\" log time  Fits $\\sim$ {math.exp(fit[0]):.3f} ** size\")\n",
    "plt.show()"
   ]
  },
  {
   "cell_type": "markdown",
   "metadata": {},
   "source": [
    "### Analicemos la complejidad:\n",
    "En cada iteración,  sobre un stack de tamaño $n$ se producen:\n",
    "* Dos llamadas al mismo algoritmo con tamaño  n-1\n",
    "* Un movimiento de pieza simple. Cuyo coste es $\\cal{O}(1)$\n",
    "\n",
    "La expresión de recurrencia es :\n",
    "$$ T(N) = 2\\times T(N-1) + \\cal{O}(1)$$\n",
    "\n",
    "En arbol de recursión: \n",
    "* el factor de expansión, branching factor, es 2.\n",
    "* la profundidad del árbol es n\n",
    "\n",
    "En el último de los niveles, hay $2^n$ nodos, y en los niveles anteriores el coste es de $ 2^{i}$ siendo $ i=0$ el nodo raíz, e $i$  el nivel. \n",
    "\n",
    "En consecuencia podemos estimar:\n",
    "\n",
    "\\begin{align} \n",
    "\\cal{O}(T(N)) &= 2^n + 2^{n-1} + 2^{n-2} + ... + 2 + 1 \\\\\n",
    "              &= \\sum_{i=0}^n 2^i = 2^{n+1} - 1 \\\\\n",
    "              & = \\cal{O}(2^n)\n",
    "\\end{align} \n",
    "\n",
    "Lo que está en línea con la pendiente de la reprentanción logarítmica de los tiempos de ejecución experimentalmente determinada"
   ]
  },
  {
   "cell_type": "markdown",
   "metadata": {},
   "source": [
    "_____\n",
    "## EJERCICIO 2 MCD\n",
    "\n",
    "El máximo común divisor (MCD) de dos o más números enteros se se define como el mayor número entero que los divide sin dejar residuo alguno. Por ejemplo, el M.C.D. de 36 y 60 es 12. Existen tres métodos para calcularlo:\n",
    "\n",
    "1. Por descomposición en factores primos (normalmente el que se enseña en la enseñanzas primaria y secundaria).\n",
    "2. Usando el mínimo común múltiplo.\n",
    "\n",
    "3. El Algoritmo de Euclides.- Este método se puede programar de forma recursiva. SSea a y b dos números enteros, el M.C.D. es:\n",
    "\n",
    "1. Si b!=0 mcd(b, a mod b)\n",
    "\n",
    "2. Si b=0 mcd (a,0) = 1\n",
    "\n",
    "Se pide al alumno programar el algoritmo recursivo y mostrar unos ejemplos de prueba.\n",
    "\n"
   ]
  },
  {
   "cell_type": "code",
   "execution_count": 48,
   "metadata": {
    "vscode": {
     "languageId": "shellscript"
    }
   },
   "outputs": [],
   "source": [
    "def maxCommonDiv(a,b):\n",
    "    aMax = max(a,b)\n",
    "    aMin = min(a,b)\n",
    "    rem = aMax % aMin\n",
    "    if rem  == 0:\n",
    "        return aMin\n",
    "    else:\n",
    "        return maxCommonDiv(aMin, rem)"
   ]
  },
  {
   "cell_type": "code",
   "execution_count": 49,
   "metadata": {
    "vscode": {
     "languageId": "shellscript"
    }
   },
   "outputs": [
    {
     "data": {
      "text/plain": [
       "69"
      ]
     },
     "execution_count": 49,
     "metadata": {},
     "output_type": "execute_result"
    }
   ],
   "source": [
    "maxCommonDiv(23*345,23*456)"
   ]
  },
  {
   "cell_type": "markdown",
   "metadata": {},
   "source": [
    "## BONUS: Euclides proof\n",
    "Given $A$ and $B$ such that both are integers and $ A \\ge B$. We  can say that $ A = n_0\\times B + R_0$; where $n_0 = int(A/b) $ and $ R_0 = mod(A,B)$  \n",
    "If $ R_0 = 0 $ we are done...  \n",
    "if not, as $R_0 \\lt B$, we apply the same algorithm to the couple $ (B, R_0)$. that is: $ B = n_1 \\times R_0 + R_1$  \n",
    "Lets suppose $ R_1 \\ne 0$. Then  we apply the same algorithm to $(R_0, R_1)$  as $ R_0 = n_2 \\times R_1 + R_2$  \n",
    "Lets proceed recursively until one of the divisions produce no remainder. That is,  till we find $R_{k+1} =  0 $  \n",
    "\n",
    "Then, it can be proved that $\\hspace{20pt} mcd(A,B) = R_k $\n",
    "\n",
    "Why?  \n",
    "Since $ R_k = 0 $ we can write that the end of the above sequence is:  \n",
    "$\\hspace{20pt} R_{k-1} = n_{k+1} R_k$  \n",
    "and working backwards...  \n",
    "$\\hspace{20pt} R_{k-2} = n_{k} R_{k-1} +R_k = (n_k n_{k+1})R_k $  \n",
    "$\\hspace{20pt} R_{k-3} = n_{k-1} R_{k-2} +R_k-1 = (n_{k-1}n_k n_{k+1}+n_{k+1}+1)R_k $  \n",
    "$\\hspace{20pt} ...$  \n",
    "Without entering much detail, as all $n_i$ are integers, this proves that $R_1$ and $R_0$ are multiples of $R_k$  \n",
    "and since  \n",
    "$\\hspace{20pt}  B = n_1 \\times R_0 + R_1$  \n",
    "We can conclude that $B$ is multiple of $R_k$. Since $ A = n_0\\times B + R_0$ then $R_k$ also divides $A$\n",
    "\n",
    "HOw can we prove is the max common divisor, and just not any divisor ?"
   ]
  },
  {
   "cell_type": "markdown",
   "metadata": {},
   "source": [
    "---\n",
    "---\n",
    "\n",
    "## EJERCICIO 3 Multiplicación\n",
    "\n",
    "Se pide al alumno que programe una función recursiva que recibiendo dos números devuelva la multiplicación de los mismos. Usando el siguiente prototipo.\n",
    "\n",
    "def multiplicación (m1, m2)\n",
    "\n",
    "### solution\n",
    "\n",
    "See that  \n",
    "\n",
    "$\\hspace{20pt} {\\tt mult}(m1,m2) = m2 + {\\tt mult}(m1, m2-1)$\n",
    "\n",
    "And, as closure: \n",
    "\n",
    "$\\hspace{20pt} {\\tt mult}(m1,1) = m1 $\n",
    "\n",
    "Implementation has to acount for sign, as the decrement of $m2$  must be  towards 0,  and this will not work for non-integer $m2$"
   ]
  },
  {
   "cell_type": "code",
   "execution_count": null,
   "metadata": {
    "vscode": {
     "languageId": "shellscript"
    }
   },
   "outputs": [],
   "source": [
    "def mult(a,b):\n",
    "    # just for b integers \n",
    "    if not isinstance(b,int):\n",
    "        raise Exception(\"Mal argumento B debe ser entero\")\n",
    "    # bounds\n",
    "    if    a == 0 or b == 0 :\n",
    "        return 0\n",
    "    if a == 1 : return b\n",
    "    \n",
    "    # end condition\n",
    "    if b ==  1 : return  a\n",
    "    if b == -1 : return -a\n",
    "    \n",
    "    # recursive call\n",
    "    if b > 0:   return a + mult(a, b-1)\n",
    "    else:  return -a + mult(a, b+1)\n",
    "\n",
    "a = 1.9\n",
    "b = -10\n",
    "print(mult(a,b),a*b)"
   ]
  },
  {
   "cell_type": "code",
   "execution_count": null,
   "metadata": {
    "vscode": {
     "languageId": "shellscript"
    }
   },
   "outputs": [],
   "source": [
    "def sign(x): \n",
    "  return (1-2*(x<0))*(x!=0)\n",
    "def mult2(a,b):\n",
    " \n",
    "    # just for b integers \n",
    "    if not isinstance(b,int):\n",
    "        raise Exception(\"Mal argumento B debe ser entero\")\n",
    "    # bounds\n",
    "    if    a == 0 or b == 0 :\n",
    "        return 0\n",
    "    if a == 1 : return b\n",
    "    \n",
    "    # end condition\n",
    "    if b ==  1 : return  a\n",
    "    if b == -1 : return -a\n",
    "    \n",
    "    # recursive call\n",
    "    return a*sign(b) + mult2(a, b-1*sign(b))\n",
    "    \n",
    "a = -1.9\n",
    "b = -10\n",
    "print(mult2(a,b),a*b)\n"
   ]
  },
  {
   "cell_type": "markdown",
   "metadata": {},
   "source": [
    "---\n",
    "## Iterative Hanoi solution\n",
    "\n",
    "A simple solution for the toy puzzle is to alternate moves between the smallest piece and a non-smallest piece.  \n",
    " When moving the smallest piece, always move it to the next position in the same direction (to the right if the starting number of pieces is even, to the left if the starting number of pieces is odd).   \n",
    " If there is no tower position in the chosen direction, move the piece to the opposite end, but then continue to move in the correct direction.  \n",
    " For example, if you started with three pieces, you would move the smallest piece to the opposite end, then continue in the left direction after that. When the turn is to move the non-smallest piece, there is only one legal move.   \n",
    " Doing this will complete the puzzle in the fewest moves.[8]"
   ]
  },
  {
   "cell_type": "code",
   "execution_count": 50,
   "metadata": {
    "vscode": {
     "languageId": "shellscript"
    }
   },
   "outputs": [],
   "source": [
    "def done (A,B):\n",
    "    return (len(A) == 0)  and  (len(B) == 0)\n",
    "    \n",
    "def top(aList):\n",
    "    if len(aList)== 0: \n",
    "        return None\n",
    "    else:\n",
    "        return aList[-1]\n",
    "\n",
    "def robustMin(aCol):\n",
    "    filtered =[element for element in aCol if element is not None]\n",
    "    return min(filtered) if len(filtered) != 0 else None\n",
    "\n",
    "def whereIstheMin(listOfLists):\n",
    "    # returns the index of the list where the min at top is\n",
    "    tops = [top(list) for list in listOfLists ] \n",
    "    minVal = robustMin(tops) \n",
    "    return tops.index(minVal) if minVal is not None else None\n",
    "    \n",
    "def move(A,B,C,dir):\n",
    "    count = 0 \n",
    "    \n",
    "    # assemble the stacks in convenient list\n",
    "    listOfLists = [A,B,C]\n",
    "    \n",
    "    # which of the stacks have the minimum ?\n",
    "    sourceListNum = whereIstheMin(listOfLists)\n",
    "    \n",
    "    # where to move it...\n",
    "    if dir == 1:  # move right\n",
    "        targetListNum = (sourceListNum + 1) % 3\n",
    "    else:        # move left\n",
    "        targetListNum = (sourceListNum + 2) % 3\n",
    "    \n",
    "    sourceList = listOfLists[sourceListNum]\n",
    "    targetList = listOfLists[targetListNum]\n",
    "    targetList.append(sourceList.pop())\n",
    "    count += 1\n",
    "    \n",
    "    # now do the next min move    \n",
    "    # remove the current Target list, because here is the minimum we just moved\n",
    "    listOfLists.remove(targetList)\n",
    "    # find where is the next min\n",
    "    sourceListNum = whereIstheMin(listOfLists)\n",
    "    # Got none if both were empty, else..\n",
    "    if sourceListNum is not None:\n",
    "        # pop out the list where the next min is \n",
    "        sourceList = listOfLists.pop(sourceListNum)\n",
    "        targetList = listOfLists[0]\n",
    "        \n",
    "        # do the move\n",
    "        targetList.append(sourceList.pop())\n",
    "        count += 1\n",
    "    return count\n",
    "    \n",
    "    \n",
    "def iterative_hanoi(size,A,B,C,display):\n",
    "    dir = 1 if size %2 == 0 else -1\n",
    "    count = 0    \n",
    "    while not done(A,B):\n",
    "        count  += move(A,B,C,dir)\n",
    "        if display:\n",
    "            print (\"%d ############\" % count)\n",
    "            print (\"A\", A)\n",
    "            print (\"B\", B)\n",
    "            print (\"C\", C)\n",
    "    return count    "
   ]
  },
  {
   "cell_type": "code",
   "execution_count": null,
   "metadata": {
    "vscode": {
     "languageId": "shellscript"
    }
   },
   "outputs": [],
   "source": [
    "# show it works\n",
    "size = 5\n",
    "A = list(range(size,0,-1))\n",
    "B = []\n",
    "C = []\n",
    "iterative_hanoi(size,A,B,C,True)"
   ]
  },
  {
   "cell_type": "code",
   "execution_count": 52,
   "metadata": {
    "vscode": {
     "languageId": "shellscript"
    }
   },
   "outputs": [
    {
     "name": "stdout",
     "output_type": "stream",
     "text": [
      "Solved Iteratively Hanoi of size 20 whith 1048575 steps in 2.523E+00 secs\n"
     ]
    }
   ],
   "source": [
    "# Now time it \n",
    "import time\n",
    "size = 20\n",
    "A = list(range(size,0,-1))\n",
    "B = []\n",
    "C = []\n",
    "t0  = time.process_time_ns()\n",
    "steps = iterative_hanoi(size,A,B,C,False)\n",
    "t1 = (time.process_time_ns() - t0)*1E-9\n",
    "print ( f\"Solved Iteratively Hanoi of size {size} whith {steps} steps in {t1:.3E} secs\")"
   ]
  },
  {
   "cell_type": "markdown",
   "metadata": {},
   "source": [
    "\n",
    "### Hanoi comparison\n",
    "of steps is the same, however is a lot slower, in the non-recursive.. a lot more manipulation required..."
   ]
  },
  {
   "cell_type": "markdown",
   "metadata": {},
   "source": [
    "# Anexo\n",
    "\n",
    "## Factorization of a number"
   ]
  },
  {
   "cell_type": "code",
   "execution_count": 2,
   "metadata": {
    "vscode": {
     "languageId": "shellscript"
    }
   },
   "outputs": [
    {
     "name": "stdout",
     "output_type": "stream",
     "text": [
      "Factors function defined\n"
     ]
    }
   ],
   "source": [
    "def factors(n):\n",
    "    fList = []\n",
    "\n",
    "    def firstFactor(n,p):\n",
    "        while True:\n",
    "            if n%p == 0:\n",
    "                return p\n",
    "            else:\n",
    "                p = p + 1\n",
    "        return n\n",
    "\n",
    "    p = 2\n",
    "    while True:\n",
    "        factor = firstFactor(n,p)\n",
    "        fList.append(factor)\n",
    "        if factor == n:\n",
    "            return fList\n",
    "        else:\n",
    "            n = n / factor\n",
    "            p = factor\n",
    "\n",
    "print (\"Factors function defined\")"
   ]
  },
  {
   "cell_type": "code",
   "execution_count": 11,
   "metadata": {
    "vscode": {
     "languageId": "shellscript"
    }
   },
   "outputs": [
    {
     "data": {
      "text/plain": [
       "[3, 2371, 329304421]"
      ]
     },
     "execution_count": 11,
     "metadata": {},
     "output_type": "execute_result"
    }
   ],
   "source": [
    "factors(2342342346573)"
   ]
  }
 ],
 "metadata": {
  "kernelspec": {
   "display_name": "Python 3 (ipykernel)",
   "language": "python",
   "name": "python3"
  },
  "language_info": {
   "codemirror_mode": {
    "name": "ipython",
    "version": 3
   },
   "file_extension": ".py",
   "mimetype": "text/x-python",
   "name": "python",
   "nbconvert_exporter": "python",
   "pygments_lexer": "ipython3",
   "version": "3.10.12"
  }
 },
 "nbformat": 4,
 "nbformat_minor": 2
}
