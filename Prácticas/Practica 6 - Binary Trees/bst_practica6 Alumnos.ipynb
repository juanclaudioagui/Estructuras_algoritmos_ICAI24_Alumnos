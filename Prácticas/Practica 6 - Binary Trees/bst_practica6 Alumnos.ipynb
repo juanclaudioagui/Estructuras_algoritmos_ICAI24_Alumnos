{
 "cells": [
  {
   "cell_type": "markdown",
   "metadata": {},
   "source": [
    "# Práctica 6 Arboles binarios\n",
    "Juan C. Agui  \n",
    "ICAI IMAT Abril 2024\n",
    "\n",
    "**Aviso**  \n",
    "En este notebook, utilizamos el paquete de clases dinámicas jdc ( https://pypi.org/project/jdc/ ) instalar con  \"pip install jdc\" que nos permite añadir métodos a clases previamente definidos en otra celda anterior del mismo notebook.  De esta manera podemos ir comentando y enriqueciendo las clases de forma gradual, que debe ser más inteligible, que no el código en su conjunto.\n",
    "\n",
    "Para su uso, hay que empezar la celda con la directiva : \"%%add_to ClassName\"   y los métodos definidos en esta celda se añaden a la clase ClassName."
   ]
  },
  {
   "cell_type": "markdown",
   "metadata": {},
   "source": [
    "Hagamos unos import"
   ]
  },
  {
   "cell_type": "code",
   "execution_count": null,
   "metadata": {},
   "outputs": [],
   "source": [
    "import matplotlib.pyplot as plt\n",
    "import matplotlib.lines as lines\n",
    "import datetime \n",
    "import jdc"
   ]
  },
  {
   "cell_type": "markdown",
   "metadata": {},
   "source": [
    "## Definición Clases básicas"
   ]
  },
  {
   "cell_type": "markdown",
   "metadata": {},
   "source": [
    "## Clase Nodo"
   ]
  },
  {
   "cell_type": "code",
   "execution_count": null,
   "metadata": {},
   "outputs": [],
   "source": [
    "\n",
    "# definición de clase nodo, con algunas funciones de utilidad...\n",
    "class Node():\n",
    "    def __init__(self,  key=None, value=None):\n",
    "        # pointer to parent\n",
    "        self.parent  = None \n",
    "        # pointer to left child  \n",
    "        self.left    = None \n",
    "        # pointer to right child\n",
    "        self.right   = None \n",
    "        # key that identifies the node\n",
    "        self.key     = key    \n",
    "        # additional data\n",
    "        self.value    = value   # additional data\n",
    "    \n",
    "    def __str__(self):\n",
    "        return f'Node {self.key=}, {self.value=} id={id(self)}'\n",
    "\n",
    "    def __repr__(self):\n",
    "        return f'Node key={self.key}'\n",
    "\n",
    "    def __lt__(self,other):\n",
    "        return self.key < other.key\n",
    "    \n",
    "    def show(self):\n",
    "        parentId = self.parent if self.parent else \"N/A\"\n",
    "        leftId = self.left.key if self.left else \"N/A\"\n",
    "        rightId = self.right.key if self.right else \"N/A\"\n",
    "        return f\"Node Id={self.key}  Parent={parentId} Left={leftId} Right={rightId}, Height={self.height()}\"\n",
    "    \n",
    "    def isLeaf(self):\n",
    "        if self.left or self.right:\n",
    "            return False\n",
    "        else:\n",
    "            return True\n",
    "    def isOrphan(self):\n",
    "        return self.parent is None\n",
    "    \n",
    "    def isLeftChild(self):\n",
    "        if self.isOrphan():\n",
    "            return False\n",
    "        \n",
    "        if self.parent.left == self:\n",
    "            return True\n",
    "        else:\n",
    "            return False\n",
    "    \n",
    "    def isRightChild(self):\n",
    "        if self.isOrphan():\n",
    "            return False\n",
    "            \n",
    "        if self.parent.right == self: \n",
    "            return True\n",
    "        else:\n",
    "            return False\n",
    "        \n",
    "    def height(self):\n",
    "        if self.isLeaf():\n",
    "            return 0\n",
    "        else:\n",
    "            l_height = self.left.height() if self.left else 0\n",
    "            r_height = self.right.height() if self.right else 0\n",
    "            return 1 + max(l_height, r_height)\n",
    "        \n",
    "    # retorna el skew o desquilibrio de un nodo, mirando a la altura de sus hijos...\n",
    "    def skew(self):\n",
    "        l_height = self.left.height()  + 1 if self.left  else 0\n",
    "        r_height = self.right.height() + 1 if self.right else 0\n",
    "        return r_height - l_height\n",
    "    \n",
    "    def connectAsLeftChildOfNode(self,parent):\n",
    "        \"\"\" sets self as left child of parent\"\"\"\n",
    "        self.parent = parent\n",
    "        parent.left = self\n",
    "        \n",
    "    def connectAsRightChildOfNode(self,parent):\n",
    "        \"\"\" sets self as right child of parent\"\"\"\n",
    "        self.parent = parent\n",
    "        parent.right = self\n",
    "\n",
    "print (\"Node class updated\")"
   ]
  },
  {
   "cell_type": "markdown",
   "metadata": {},
   "source": [
    "## Clase BST, Binary Search Tree\n",
    "Aquí definimos lo básico del BST y un método plot que nos permite visualizarlo fácilmente.... Luego lo vamos enriqueciendo progresivamente en celdas posteriores"
   ]
  },
  {
   "cell_type": "code",
   "execution_count": null,
   "metadata": {},
   "outputs": [],
   "source": [
    "      \n",
    "class BST():\n",
    "    def __init__(self, rootNode=None):\n",
    "        self.rootNode = rootNode\n",
    "    \n",
    "    def __str__(self):\n",
    "        \"\"\"   printable info of a tree  \"\"\"\n",
    "        return f'Tree with root Node key = {self.rootNode.key} and Height= {self.height()} Size = {self.size()} Skew = {self.skew()}'\n",
    "        \n",
    "    def height(self):\n",
    "        \"\"\"   returns height of a tree, 0  if empty  \"\"\"\n",
    "        if self.rootNode:\n",
    "            return self.rootNode.height()\n",
    "        else:\n",
    "            return 0\n",
    "        \n",
    "    def skew(self):\n",
    "        if self.rootNode is None:\n",
    "            return 0\n",
    "        else:\n",
    "            return self.rootNode.skew()\n",
    "    \n",
    "\n",
    "    def size(self):\n",
    "        \"\"\" Number of nodes in tree, including root \"\"\"\n",
    "        if self.rootNode:\n",
    "            leftSize = BST(self.rootNode.left).size()   if self.rootNode.left else 0\n",
    "            rightSize = BST(self.rootNode.right).size() if self.rootNode.right else 0\n",
    "            return leftSize + rightSize + 1    \n",
    "        else:\n",
    "            return 0        \n",
    "\n",
    "    def plot(self,header=None):\n",
    "\n",
    "        if header is None:\n",
    "            header = self.__str__()\n",
    "            \n",
    "        fig, ax = plt.subplots(1, 1, figsize=(10, 15))\n",
    "\n",
    "        ax.set_aspect('equal')\n",
    "\n",
    "        height = self.height()\n",
    "        width = 2**(self.height()+1 )\n",
    "        ratio = width/height\n",
    "\n",
    "        nodeRadius = 0.12*ratio\n",
    "\n",
    "        ax.set_xlim(-(width//2 - 1)*1.1, (width//2)*1.1)\n",
    "        ax.set_ylim((height+2)*ratio, -ratio)\n",
    "        \n",
    "        \n",
    "        def addNode(aNode, origin):\n",
    "            if origin is None:\n",
    "                origin = (0, 0)\n",
    "            hspace = 2**(aNode.height()-1)\n",
    "\n",
    "\n",
    "            if aNode.left:\n",
    "                leftChildOrigin = (origin[0]-hspace, (origin[1]+ratio))\n",
    "                line = lines.Line2D([origin[0], leftChildOrigin[0]], [\n",
    "                                    origin[1], leftChildOrigin[1]], lw=1, color='black', axes=ax)\n",
    "                ax.add_line(line)\n",
    "                addNode(aNode.left, leftChildOrigin)\n",
    "            if aNode.right:\n",
    "                rightChildOrigin = (origin[0]+hspace,(origin[1]+ratio))\n",
    "                line = lines.Line2D([origin[0], rightChildOrigin[0]], [\n",
    "                                    origin[1], rightChildOrigin[1]], lw=1, color='black', axes=ax)\n",
    "                ax.add_line(line)\n",
    "                addNode(aNode.right, rightChildOrigin)\n",
    "            color = getattr(aNode,'color',\"black\")\n",
    "            if not isinstance(color,str):\n",
    "                color = color.name.lower()\n",
    "            ax.add_patch(plt.Circle(origin, nodeRadius,\n",
    "                         color=color, ec='r', fill=True))\n",
    "            plt.text(origin[0], origin[1]-1.25*nodeRadius, f\"{aNode.key}\")\n",
    "\n",
    "        addNode(self.rootNode, (0, 1))\n",
    "\n",
    "        ax.set_title(header)\n",
    "        plt.show()\n",
    "        \n",
    "print (f\"Classes redefined at time {datetime.datetime.now()}\")"
   ]
  },
  {
   "cell_type": "markdown",
   "metadata": {},
   "source": [
    "## Punto 1: Creación manual y display del nodo\n",
    "Basico, crear nodo, árbol y crear un arbol con el nodo as root."
   ]
  },
  {
   "cell_type": "code",
   "execution_count": null,
   "metadata": {},
   "outputs": [],
   "source": [
    "def buildTree(keys):\n",
    "    nodes = { key: Node(key,str(key)) for key in keys}\n",
    "    nodes[6].connectAsLeftChildOfNode(nodes[15])\n",
    "    nodes[3].connectAsLeftChildOfNode(nodes[6])\n",
    "    nodes[2].connectAsLeftChildOfNode(nodes[3])\n",
    "    nodes[4].connectAsRightChildOfNode(nodes[3])\n",
    "    nodes[7].connectAsRightChildOfNode(nodes[6])\n",
    "    nodes[13].connectAsRightChildOfNode(nodes[7])\n",
    "    nodes[9].connectAsLeftChildOfNode(nodes[13])\n",
    "    nodes[17].connectAsLeftChildOfNode(nodes[18])\n",
    "    nodes[20].connectAsRightChildOfNode(nodes[18])\n",
    "    nodes[18].connectAsRightChildOfNode(nodes[15])\n",
    "\n",
    "    # Creo el árbol, simplemente indicándole el nodo raíz.\n",
    "    bst = BST(nodes[15])\n",
    "    return bst\n",
    "keys = [2,3,4,6,7,9,13,15,18,17,20]\n",
    "bst = buildTree(keys)\n",
    "# y lo dibujo...\n",
    "bst.plot()\n"
   ]
  },
  {
   "cell_type": "markdown",
   "metadata": {},
   "source": [
    "##  Punto 2: Secuenciación Central\n",
    "Añadimos un  método de secuenciaCentral de la clase BST"
   ]
  },
  {
   "cell_type": "code",
   "execution_count": null,
   "metadata": {},
   "outputs": [],
   "source": [
    "%%add_to BST\n",
    "def secuenciaCentral(self):\n",
    "    \"\"\" Return the trasverse sequence  ( list of tuple (key,value)) using central order \n",
    "        lo hace de formar recursiva sobre los subarboles izquierdo, luego el nodo central, y luego el nodo derecho...\n",
    "    \"\"\"\n",
    "    nodesList = []\n",
    "    if self.rootNode.left:\n",
    "        nodesList.extend(BST(self.rootNode.left).secuenciaCentral())\n",
    "    nodesList.append((self.rootNode.key, self.rootNode.value))\n",
    "    if self.rootNode.right:\n",
    "        nodesList.extend(BST(self.rootNode.right).secuenciaCentral())\n",
    "    return nodesList"
   ]
  },
  {
   "cell_type": "markdown",
   "metadata": {},
   "source": [
    "Y lo ejecutamos,..."
   ]
  },
  {
   "cell_type": "code",
   "execution_count": null,
   "metadata": {},
   "outputs": [],
   "source": [
    "print (f\"La secuencia central es: {bst.secuenciaCentral()}\")"
   ]
  },
  {
   "cell_type": "markdown",
   "metadata": {},
   "source": [
    "-------\n",
    "# ROTACIONES !!!\n",
    "Implementemos el código de la rotación\n"
   ]
  },
  {
   "cell_type": "raw",
   "metadata": {
    "vscode": {
     "languageId": "raw"
    }
   },
   "source": [
    "# How to change the structure of a tree, while preserving traversal order? Rotations!\n",
    "\n",
    "# 1               ____<D>__    rotate_right(<D>)         __<B>_____\n",
    "# 2            __<B>__   <E>          =>               <A>    __<D>__\n",
    "# 3           <A>   <C>  / \\                           / \\    <C>  <E>\n",
    "# 4           / \\   / \\ /___\\         <=              /___\\   / \\  / \\\n",
    "# 5          /___\\ /___\\      rotate_left(<B>)               /___\\ /___\\\n",
    "#    \n",
    "# • A rotation relinks O(1) pointers to modify tree structure and maintains traversal order     \n",
    "#\n",
    "#     if skew (r-l) < -1 then right rotate,\n",
    "#     if skew (r-l) >  1  then left rotate\n",
    "#   \n",
    "#     ** right rotate D means: \n",
    "#         push D down and right, push D.left in D position, move D.predecesor as D.left\n",
    "#\n",
    "#     ** left rotate B means:\n",
    "#         move B.right into  B position, push B down-left, move B succesor as B.right"
   ]
  },
  {
   "cell_type": "markdown",
   "metadata": {},
   "source": [
    "## Rotación izquierda"
   ]
  },
  {
   "cell_type": "markdown",
   "metadata": {},
   "source": [
    "## Probando.... reconstruyamos el árbol..."
   ]
  },
  {
   "cell_type": "code",
   "execution_count": null,
   "metadata": {},
   "outputs": [],
   "source": [
    "bst = buildTree(keys)\n",
    "bst.plot()"
   ]
  },
  {
   "cell_type": "code",
   "execution_count": null,
   "metadata": {},
   "outputs": [],
   "source": [
    "bst.rightRotate(bst.rootNode)\n",
    "bst.plot(\"Right  rotation in root\")\n"
   ]
  },
  {
   "cell_type": "markdown",
   "metadata": {},
   "source": [
    "Restore con una left del root"
   ]
  },
  {
   "cell_type": "code",
   "execution_count": null,
   "metadata": {},
   "outputs": [],
   "source": [
    "rNode = bst.rootNode\n",
    "print (rNode)\n",
    "bst.leftRotate(rNode)\n",
    "bst.plot(\"After left rotation on root\")"
   ]
  },
  {
   "cell_type": "markdown",
   "metadata": {},
   "source": [
    "Left rotate on 6 node..."
   ]
  },
  {
   "cell_type": "code",
   "execution_count": null,
   "metadata": {},
   "outputs": [],
   "source": [
    "node6 = bst.getNodeByKey(6)\n",
    "bst.leftRotate(node6, DEBUG=True)\n",
    "bst.plot(\"after left Rotate on 6\")"
   ]
  },
  {
   "cell_type": "code",
   "execution_count": null,
   "metadata": {},
   "outputs": [],
   "source": [
    "# Hagamoslo peor... LR on 7\n",
    "node7 = bst.getNodeByKey(7)\n",
    "bst.leftRotate(node7, DEBUG=True)\n",
    "bst.plot(\"after left Rotate on 7\")"
   ]
  },
  {
   "cell_type": "markdown",
   "metadata": {},
   "source": [
    "and correct with a rightRotate on 7"
   ]
  },
  {
   "cell_type": "code",
   "execution_count": null,
   "metadata": {},
   "outputs": [],
   "source": [
    "node13 = bst.getNodeByKey(13)\n",
    "bst.rightRotate(node13, DEBUG=True)\n",
    "bst.plot(\"after right Rotate on 13\")"
   ]
  },
  {
   "cell_type": "code",
   "execution_count": null,
   "metadata": {},
   "outputs": [],
   "source": [
    "rnode = bst.rootNode\n",
    "bst.rightRotate(rnode, DEBUG=True)\n",
    "bst.plot(\"after right Rotate on rnode\")"
   ]
  }
 ],
 "metadata": {
  "kernelspec": {
   "display_name": "Python 3",
   "language": "python",
   "name": "python3"
  },
  "language_info": {
   "codemirror_mode": {
    "name": "ipython",
    "version": 3
   },
   "file_extension": ".py",
   "mimetype": "text/x-python",
   "name": "python",
   "nbconvert_exporter": "python",
   "pygments_lexer": "ipython3",
   "version": "3.10.12"
  }
 },
 "nbformat": 4,
 "nbformat_minor": 2
}
