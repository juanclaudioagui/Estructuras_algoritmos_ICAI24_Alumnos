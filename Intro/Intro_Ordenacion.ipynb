{
 "cells": [
  {
   "cell_type": "markdown",
   "metadata": {},
   "source": [
    "# Explorando ordenación, básica"
   ]
  },
  {
   "cell_type": "code",
   "execution_count": null,
   "metadata": {},
   "outputs": [],
   "source": [
    "import random\n",
    "import time\n",
    "\n",
    "print (\"Libs random, and time loaded\")"
   ]
  },
  {
   "cell_type": "markdown",
   "metadata": {},
   "source": [
    "## Lets write up a very NAIVE sort alg"
   ]
  },
  {
   "cell_type": "code",
   "execution_count": null,
   "metadata": {},
   "outputs": [],
   "source": [
    "def naiveSort(aList):\n",
    "    #  a very simple insertion sort...\n",
    "    l = len(aList)\n",
    "    \n",
    "    for i in range(0,l):\n",
    "        for j in range(i,l):\n",
    "            if aList[j] < aList[i]:\n",
    "                aList[i],aList[j] = aList[j],aList[i]\n",
    "    return"
   ]
  },
  {
   "cell_type": "code",
   "execution_count": null,
   "metadata": {},
   "outputs": [],
   "source": [
    "n = 5000"
   ]
  },
  {
   "cell_type": "code",
   "execution_count": null,
   "metadata": {},
   "outputs": [],
   "source": [
    "a = random.sample(range(100000),k=n)\n",
    "t0 = time.process_time()\n",
    "naiveSort(a)\n",
    "t1 = time.process_time()\n",
    "print (f\"Naive sort took {(t1-t0):.5f} secs to sort {n} elements\")\n",
    "print(a)"
   ]
  },
  {
   "cell_type": "markdown",
   "metadata": {},
   "source": [
    "## And now compare with the Python built-in sort()"
   ]
  },
  {
   "cell_type": "code",
   "execution_count": null,
   "metadata": {},
   "outputs": [],
   "source": [
    "\n",
    "a = random.sample(range(100000),k=n)\n",
    "t0 = time.process_time()\n",
    "a.sort()\n",
    "t1 = time.process_time()\n",
    "print (f\"Python built-in  sort took {(t1-t0):.5f} secs to sort {n} elements\")\n",
    "print (a)"
   ]
  },
  {
   "cell_type": "markdown",
   "metadata": {},
   "source": [
    "$$ \\Large \\color{blue} \\texttt{Python sort is 1500 veces mejor que nuestro algoritmo ingenuo !!} $$\n",
    "$$ \\huge \\color{red} \\texttt{Naive algoritms, explode in your face !!} $$\n",
    "$$ \\huge \\color{red} \\texttt{as N increase} $$\n",
    "\n",
    "\n",
    "$$ \\textit{do not worry, will do better !}$$\n"
   ]
  },
  {
   "cell_type": "markdown",
   "metadata": {},
   "source": []
  }
 ],
 "metadata": {
  "kernelspec": {
   "display_name": "Python 3",
   "language": "python",
   "name": "python3"
  },
  "language_info": {
   "codemirror_mode": {
    "name": "ipython",
    "version": 3
   },
   "file_extension": ".py",
   "mimetype": "text/x-python",
   "name": "python",
   "nbconvert_exporter": "python",
   "pygments_lexer": "ipython3",
   "version": "3.10.12"
  }
 },
 "nbformat": 4,
 "nbformat_minor": 2
}
