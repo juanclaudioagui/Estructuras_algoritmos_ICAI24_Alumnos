{
 "cells": [
  {
   "cell_type": "markdown",
   "metadata": {},
   "source": [
    "# Matrix addressing\n",
    "\n",
    "How you do it, makes all the difference... :-)"
   ]
  },
  {
   "cell_type": "code",
   "execution_count": 29,
   "metadata": {},
   "outputs": [
    {
     "name": "stdout",
     "output_type": "stream",
     "text": [
      "Generated a standard python array of 10000 by 10000\n"
     ]
    }
   ],
   "source": [
    "from time import process_time\n",
    "\n",
    "nRows = 10000\n",
    "nCols = 10000\n",
    "aMat = [ [0]*nCols for _ in range(nRows)]\n",
    "print(f\"Generated a standard python array of {nRows} by {nCols}\")"
   ]
  },
  {
   "cell_type": "code",
   "execution_count": 26,
   "metadata": {},
   "outputs": [
    {
     "name": "stdout",
     "output_type": "stream",
     "text": [
      " Filling a Matrix of 10000 by 10000 by rows  takes 1.266e+01\n"
     ]
    }
   ],
   "source": [
    "# addressing by rows\n",
    "t0 = process_time()\n",
    "for iRow in range(nRows):\n",
    "    row = aMat[iRow]\n",
    "    for iCol in range(nCols):\n",
    "        row[iCol] = 10.0\n",
    "t1 = process_time()\n",
    "print (f\" Filling a Matrix of {nRows} by {nCols} by rows  takes {(t1-t0):.3e}\")\n"
   ]
  },
  {
   "cell_type": "code",
   "execution_count": 27,
   "metadata": {},
   "outputs": [
    {
     "name": "stdout",
     "output_type": "stream",
     "text": [
      " Filling a Matrix of 10000 by 10000 by Columns  takes 2.901e+01\n"
     ]
    }
   ],
   "source": [
    "# addressing by cols\n",
    "t0 = process_time()\n",
    "for iCol in range(nCols):\n",
    "    for iRow in range(nRows):\n",
    "        aMat[iRow][iCol] = 10.0\n",
    "t1 = process_time()\n",
    "print (f\" Filling a Matrix of {nRows} by {nCols} by Columns  takes {(t1-t0):.3e}\")"
   ]
  },
  {
   "cell_type": "code",
   "execution_count": 28,
   "metadata": {},
   "outputs": [
    {
     "name": "stdout",
     "output_type": "stream",
     "text": [
      " Filling a Numpy Matrix of 10000 by 10000 with numpy  takes  2.829e-01\n"
     ]
    }
   ],
   "source": [
    "# as np array\n",
    "import numpy\n",
    "npArray = numpy.zeros((nRows, nCols))\n",
    "t0 = process_time()\n",
    "npArray = numpy.full((nRows,nCols),10.0)\n",
    "t1 = process_time()\n",
    "print (f\" Filling a Numpy Matrix of {nRows} by {nCols} with numpy  takes  {(t1-t0):.3e}\")\n"
   ]
  }
 ],
 "metadata": {
  "kernelspec": {
   "display_name": "Python 3",
   "language": "python",
   "name": "python3"
  },
  "language_info": {
   "codemirror_mode": {
    "name": "ipython",
    "version": 3
   },
   "file_extension": ".py",
   "mimetype": "text/x-python",
   "name": "python",
   "nbconvert_exporter": "python",
   "pygments_lexer": "ipython3",
   "version": "3.10.12"
  }
 },
 "nbformat": 4,
 "nbformat_minor": 2
}
