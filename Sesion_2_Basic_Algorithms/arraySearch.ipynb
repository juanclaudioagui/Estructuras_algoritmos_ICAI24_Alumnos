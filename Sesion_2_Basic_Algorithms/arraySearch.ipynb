{
 "cells": [
  {
   "cell_type": "markdown",
   "metadata": {},
   "source": [
    "# Array Search"
   ]
  },
  {
   "cell_type": "markdown",
   "metadata": {},
   "source": [
    "Lets generata a  problem, kind of DNA, with letter ABCDEF and a large sequence of, say, 1 M letters"
   ]
  },
  {
   "cell_type": "code",
   "execution_count": null,
   "metadata": {},
   "outputs": [],
   "source": [
    "import time\n",
    "import random\n",
    "def genSpace(seqSize, patternSize):\n",
    "    seq = random.choices(['A','B','C','D','E','F'], k=seqSize)\n",
    "\n",
    "    pattern = random.choices(['A','B','C','D','E','F'], k=patternSize)\n",
    "    print (f\"{seq=} \\n {pattern=}\")\n",
    "    return seq,pattern\n",
    "\n",
    "seq, pattern = genSpace(10000000,9)"
   ]
  },
  {
   "cell_type": "markdown",
   "metadata": {},
   "source": [
    "## Brute force"
   ]
  },
  {
   "cell_type": "code",
   "execution_count": null,
   "metadata": {},
   "outputs": [],
   "source": [
    "# 1 No python tricks\n",
    "def bruteForceFind(seq,pattern):\n",
    "    comp = 0 \n",
    "    pos = None\n",
    "    seqSize = len(seq)\n",
    "    patternSize = len(pattern)\n",
    "    for i in range(seqSize-patternSize):\n",
    "        found = True\n",
    "        for j  in range(patternSize):\n",
    "            comp += 1\n",
    "            if pattern[j] != seq[i+j]: \n",
    "                found = False\n",
    "                break\n",
    "        if found:\n",
    "            pos = i\n",
    "            break\n",
    "    return pos, comp     "
   ]
  },
  {
   "cell_type": "markdown",
   "metadata": {},
   "source": [
    "## Lets see Class alg"
   ]
  },
  {
   "cell_type": "code",
   "execution_count": null,
   "metadata": {},
   "outputs": [],
   "source": [
    "def classBruteForceFind(seq,pattern):\n",
    "    i = j = 0\n",
    "    pos = None\n",
    "    patternSize = len(pattern)\n",
    "    seqSize = len(seq)\n",
    "    comp = 0 \n",
    "    while True:\n",
    "        comp += 1\n",
    "        if seq[i] == pattern[j]:\n",
    "            i +=1 ; j += 1\n",
    "        else:\n",
    "            i = i-j+1; j=0;\n",
    "        if (j == patternSize) or (i == seqSize): \n",
    "            break\n",
    "    if j == patternSize:\n",
    "        pos = i - patternSize   \n",
    "    return pos, comp"
   ]
  },
  {
   "cell_type": "code",
   "execution_count": null,
   "metadata": {},
   "outputs": [],
   "source": [
    "# lets testit teh fi\n",
    "t0 = time.process_time()\n",
    "pos, comp = bruteForceFind(seq,pattern)\n",
    "t1 = time.process_time()\n",
    "if pos:\n",
    "    print (f\"Found pattern {pattern} as position {pos} {seq[pos:pos+len(pattern)]}\")\n",
    "else:\n",
    "    print (f\" Could not find pattern {pattern}  in Sequence\")   \n",
    "    \n",
    "print(f\"Pattern Lenght = {len(pattern)} seq Length ={len(seq):.1E} Process time = {(t1-t0):.3f} with {comp:,} comparisons\")"
   ]
  },
  {
   "cell_type": "code",
   "execution_count": null,
   "metadata": {},
   "outputs": [],
   "source": [
    "# lets testit\n",
    "t0 = time.process_time()\n",
    "pos, comp = classBruteForceFind(seq,pattern)\n",
    "t1 = time.process_time()\n",
    "if pos:\n",
    "    print (f\"Found pattern {pattern} as position {pos} {seq[pos:pos+len(pattern)]}\")\n",
    "else:\n",
    "    print (f\" Could not find pattern {pattern}  in Sequence\")   \n",
    "    \n",
    "print(f\"Pattern Lenght = {len(pattern)} seq Length ={len(seq):.1E} Process time = {(t1-t0):.3f} with {comp:,} comparisons\")\n"
   ]
  }
 ],
 "metadata": {
  "kernelspec": {
   "display_name": "Python 3",
   "language": "python",
   "name": "python3"
  },
  "language_info": {
   "codemirror_mode": {
    "name": "ipython",
    "version": 3
   },
   "file_extension": ".py",
   "mimetype": "text/x-python",
   "name": "python",
   "nbconvert_exporter": "python",
   "pygments_lexer": "ipython3",
   "version": "3.10.12"
  }
 },
 "nbformat": 4,
 "nbformat_minor": 2
}
