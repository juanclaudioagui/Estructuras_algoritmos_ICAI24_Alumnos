{
 "cells": [
  {
   "cell_type": "markdown",
   "metadata": {},
   "source": [
    "Pinta Regla\n",
    "Algoritmo que combian Divide and conquer con recursividad\n"
   ]
  },
  {
   "cell_type": "code",
   "execution_count": 26,
   "metadata": {},
   "outputs": [
    {
     "name": "stdout",
     "output_type": "stream",
     "text": [
      "Libs random, math and pyplot loaded\n"
     ]
    }
   ],
   "source": [
    "import random\n",
    "import math\n",
    "import matplotlib.pyplot as plt\n",
    "import numpy as np\n",
    "\n",
    "print (\"Libs random, math and pyplot loaded\")"
   ]
  },
  {
   "cell_type": "code",
   "execution_count": 29,
   "metadata": {},
   "outputs": [],
   "source": [
    "def drawMark(center, levels,ax):\n",
    "    ax.vlines(center,0.0,levels, lw=4, color='r')\n",
    "\n",
    "def drawRule(first, last, levels,ax=None):\n",
    "    # first case..\n",
    "    if not ax:\n",
    "        fig, ax = plt.subplots(figsize=(15,5))\n",
    "        ax.grid()\n",
    "        \n",
    "    if levels > 0:    \n",
    "        center = (last + first)/2\n",
    "        drawRule(first, center, levels-1,ax)\n",
    "        drawMark(center, levels,ax)\n",
    "        drawRule(center, last, levels-1,ax)"
   ]
  },
  {
   "cell_type": "code",
   "execution_count": 30,
   "metadata": {},
   "outputs": [
    {
     "data": {
      "image/png": "[encoded data removed]",
      "text/plain": [
       "<Figure size 1080x360 with 1 Axes>"
      ]
     },
     "metadata": {
      "needs_background": "light"
     },
     "output_type": "display_data"
    }
   ],
   "source": [
    "drawRule(0,16,4)\n",
    "plt.show()"
   ]
  }
 ],
 "metadata": {
  "kernelspec": {
   "display_name": "Python 3",
   "language": "python",
   "name": "python3"
  },
  "language_info": {
   "codemirror_mode": {
    "name": "ipython",
    "version": 3
   },
   "file_extension": ".py",
   "mimetype": "text/x-python",
   "name": "python",
   "nbconvert_exporter": "python",
   "pygments_lexer": "ipython3",
   "version": "3.10.12"
  }
 },
 "nbformat": 4,
 "nbformat_minor": 2
}
